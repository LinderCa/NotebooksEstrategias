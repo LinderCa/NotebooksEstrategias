{
 "cells": [
  {
   "cell_type": "markdown",
   "id": "4c1e400e-66ea-4231-b554-33216632364e",
   "metadata": {
    "papermill": {
     "duration": 0.002355,
     "end_time": "2025-06-25T23:19:31.122862",
     "exception": false,
     "start_time": "2025-06-25T23:19:31.120507",
     "status": "completed"
    },
    "tags": []
   },
   "source": [
    "### Descarga Realtime Alpha Vantage\n",
    "###### Descarga cada 10 minutos"
   ]
  },
  {
   "cell_type": "code",
   "execution_count": 1,
   "id": "a59056cd-968d-485d-84e7-d0777e5435ec",
   "metadata": {
    "execution": {
     "iopub.execute_input": "2025-06-25T23:19:31.127954Z",
     "iopub.status.busy": "2025-06-25T23:19:31.127504Z",
     "iopub.status.idle": "2025-06-25T23:19:31.363229Z",
     "shell.execute_reply": "2025-06-25T23:19:31.362669Z"
    },
    "papermill": {
     "duration": 0.239475,
     "end_time": "2025-06-25T23:19:31.364369",
     "exception": false,
     "start_time": "2025-06-25T23:19:31.124894",
     "status": "completed"
    },
    "tags": []
   },
   "outputs": [],
   "source": [
    "import pandas as pd\n",
    "import numpy as np\n",
    "import time\n",
    "#import matplotlib.pyplot as plt\n",
    "import os\n",
    "from datetime import date, datetime,timedelta\n",
    "#from dateutil.relativedelta import relativedelta"
   ]
  },
  {
   "cell_type": "code",
   "execution_count": 2,
   "id": "b213c3ad",
   "metadata": {
    "execution": {
     "iopub.execute_input": "2025-06-25T23:19:31.369188Z",
     "iopub.status.busy": "2025-06-25T23:19:31.368775Z",
     "iopub.status.idle": "2025-06-25T23:19:31.395382Z",
     "shell.execute_reply": "2025-06-25T23:19:31.394773Z"
    },
    "papermill": {
     "duration": 0.029842,
     "end_time": "2025-06-25T23:19:31.396341",
     "exception": false,
     "start_time": "2025-06-25T23:19:31.366499",
     "status": "completed"
    },
    "tags": []
   },
   "outputs": [
    {
     "name": "stdout",
     "output_type": "stream",
     "text": [
      "Archivo cargado correctamente.\n"
     ]
    }
   ],
   "source": [
    "# Verificar si el archivo existe\n",
    "ruta_archivo='data/dataxd.txt'\n",
    "if os.path.exists(ruta_archivo):\n",
    "    # Cargar el archivo\n",
    "    df1 = pd.read_csv(ruta_archivo, sep='\\t')\n",
    "    print(\"Archivo cargado correctamente.\")\n",
    "else:\n",
    "    # Crear un DataFrame vacío\n",
    "    df1 = pd.DataFrame()\n",
    "    print(\"Archivo no existe. Se creó un DataFrame vacío.\")"
   ]
  },
  {
   "cell_type": "code",
   "execution_count": 3,
   "id": "4377b8ac-a9ef-4fa4-88fc-48d9332e4a08",
   "metadata": {
    "execution": {
     "iopub.execute_input": "2025-06-25T23:19:31.401413Z",
     "iopub.status.busy": "2025-06-25T23:19:31.401004Z",
     "iopub.status.idle": "2025-06-25T23:19:31.495383Z",
     "shell.execute_reply": "2025-06-25T23:19:31.494797Z"
    },
    "papermill": {
     "duration": 0.097723,
     "end_time": "2025-06-25T23:19:31.496268",
     "exception": false,
     "start_time": "2025-06-25T23:19:31.398545",
     "status": "completed"
    },
    "tags": []
   },
   "outputs": [
    {
     "name": "stdout",
     "output_type": "stream",
     "text": [
      "Archivo cargado correctamente.\n"
     ]
    }
   ],
   "source": [
    "ruta_archivo='data/dataxh.txt'\n",
    "if os.path.exists(ruta_archivo):\n",
    "    # Cargar el archivo\n",
    "    df2 = pd.read_csv(ruta_archivo, sep='\\t')\n",
    "    print(\"Archivo cargado correctamente.\")\n",
    "else:\n",
    "    # Crear un DataFrame vacío\n",
    "    df2 = pd.DataFrame()\n",
    "    print(\"Archivo no existe. Se creó un DataFrame vacío.\")"
   ]
  },
  {
   "cell_type": "code",
   "execution_count": 4,
   "id": "5d91bdb7",
   "metadata": {
    "execution": {
     "iopub.execute_input": "2025-06-25T23:19:31.501236Z",
     "iopub.status.busy": "2025-06-25T23:19:31.501059Z",
     "iopub.status.idle": "2025-06-25T23:19:31.586746Z",
     "shell.execute_reply": "2025-06-25T23:19:31.586087Z"
    },
    "papermill": {
     "duration": 0.089256,
     "end_time": "2025-06-25T23:19:31.587848",
     "exception": false,
     "start_time": "2025-06-25T23:19:31.498592",
     "status": "completed"
    },
    "tags": []
   },
   "outputs": [],
   "source": [
    "df1['datetime'] = pd.to_datetime(df1['datetime'])\n",
    "df2['datetime'] = pd.to_datetime(df2['datetime'])"
   ]
  },
  {
   "cell_type": "code",
   "execution_count": 5,
   "id": "20f9d0f6",
   "metadata": {
    "execution": {
     "iopub.execute_input": "2025-06-25T23:19:31.593108Z",
     "iopub.status.busy": "2025-06-25T23:19:31.592734Z",
     "iopub.status.idle": "2025-06-25T23:19:31.596548Z",
     "shell.execute_reply": "2025-06-25T23:19:31.596080Z"
    },
    "papermill": {
     "duration": 0.007281,
     "end_time": "2025-06-25T23:19:31.597423",
     "exception": false,
     "start_time": "2025-06-25T23:19:31.590142",
     "status": "completed"
    },
    "tags": []
   },
   "outputs": [],
   "source": [
    "max_day1 = (df1['datetime'].max()).date()\n",
    "max_day2 = (df2['datetime'].max()).date()"
   ]
  },
  {
   "cell_type": "code",
   "execution_count": 6,
   "id": "5c70c3d5",
   "metadata": {
    "execution": {
     "iopub.execute_input": "2025-06-25T23:19:31.602555Z",
     "iopub.status.busy": "2025-06-25T23:19:31.602139Z",
     "iopub.status.idle": "2025-06-25T23:19:31.605160Z",
     "shell.execute_reply": "2025-06-25T23:19:31.604585Z"
    },
    "papermill": {
     "duration": 0.006452,
     "end_time": "2025-06-25T23:19:31.606046",
     "exception": false,
     "start_time": "2025-06-25T23:19:31.599594",
     "status": "completed"
    },
    "tags": []
   },
   "outputs": [],
   "source": [
    "max_day2 = max_day2 - timedelta(days=5) #para Realtime restar 5 dias"
   ]
  },
  {
   "cell_type": "code",
   "execution_count": 7,
   "id": "6c159857",
   "metadata": {
    "execution": {
     "iopub.execute_input": "2025-06-25T23:19:31.610837Z",
     "iopub.status.busy": "2025-06-25T23:19:31.610516Z",
     "iopub.status.idle": "2025-06-25T23:19:31.614072Z",
     "shell.execute_reply": "2025-06-25T23:19:31.613517Z"
    },
    "papermill": {
     "duration": 0.00694,
     "end_time": "2025-06-25T23:19:31.614995",
     "exception": false,
     "start_time": "2025-06-25T23:19:31.608055",
     "status": "completed"
    },
    "tags": []
   },
   "outputs": [],
   "source": [
    "#today = date.today()\n",
    "max_day_str2 = str(max_day2)\n",
    "max_day_str1 = str(max_day1)\n",
    "tickers = [\n",
    "    'SPY',\n",
    "    'META',\n",
    "    'AAPL',\n",
    "    'AMZN',\n",
    "    'NFLX',\n",
    "    'MRNA',\n",
    "    'TSLA',\n",
    "    'TNA',\n",
    "    'GLD',\n",
    "    'SLV',\n",
    "    'USO',\n",
    "    'BAC',\n",
    "    'CVX',\n",
    "    'XOM',\n",
    "    'QQQ',\n",
    "    'MSFT',\n",
    "    'NVDA',\n",
    "    'WMT',\n",
    "    'BA',\n",
    "    'DIS',\n",
    "    'CAT',\n",
    "    'IBM',\n",
    "    'WFC',\n",
    "    'PLTR',\n",
    "    'AMD',\n",
    "    'AVGO',\n",
    "    'HOOD',\n",
    "    'CRWV',\n",
    "    'MSTR',\n",
    "    'UNH',\n",
    "    'GOOG',\n",
    "    'APP',\n",
    "    'UBER'\n",
    "]"
   ]
  },
  {
   "cell_type": "code",
   "execution_count": 8,
   "id": "1193ed69",
   "metadata": {
    "execution": {
     "iopub.execute_input": "2025-06-25T23:19:31.620133Z",
     "iopub.status.busy": "2025-06-25T23:19:31.619744Z",
     "iopub.status.idle": "2025-06-25T23:19:34.692543Z",
     "shell.execute_reply": "2025-06-25T23:19:34.692046Z"
    },
    "papermill": {
     "duration": 3.076503,
     "end_time": "2025-06-25T23:19:34.693675",
     "exception": false,
     "start_time": "2025-06-25T23:19:31.617172",
     "status": "completed"
    },
    "tags": []
   },
   "outputs": [],
   "source": [
    "#INFORMACION DIAS\n",
    "df_new1 = pd.DataFrame()\n",
    "df_new1 = df1.copy()\n",
    "for ticker in tickers:\n",
    "    url1='https://www.alphavantage.co/query?function=TIME_SERIES_DAILY_ADJUSTED&symbol='+str(ticker)+'&entitlement=delayed&apikey=HR9C4MJVM7O4UUCM&datatype=csv'\n",
    "    company = pd.read_csv(url1, sep=',')\n",
    "    company=company.rename(columns={'timestamp':'datetime','open': 'Open', 'high': 'High', 'low': 'Low', 'close': 'Close', 'volume': 'Volume'})\n",
    "    company = company.drop(['adjusted_close','dividend_amount','split_coefficient'], axis=1)\n",
    "    company['companyName']=ticker\n",
    "    company = company[['Close', 'High', 'Low', 'Open', 'Volume', 'datetime', 'companyName']] #ordenar columnas\n",
    "    company['datetime'] = pd.to_datetime(company['datetime'])\n",
    "    company_lastday = company[company['datetime']>max_day_str1]\n",
    "    df_new1 = pd.concat([df_new1, company_lastday],ignore_index=True)"
   ]
  },
  {
   "cell_type": "code",
   "execution_count": 9,
   "id": "aca35012-6da3-4775-8beb-b59a5cc61ce4",
   "metadata": {
    "execution": {
     "iopub.execute_input": "2025-06-25T23:19:34.699258Z",
     "iopub.status.busy": "2025-06-25T23:19:34.698726Z",
     "iopub.status.idle": "2025-06-25T23:19:34.705554Z",
     "shell.execute_reply": "2025-06-25T23:19:34.704969Z"
    },
    "papermill": {
     "duration": 0.010447,
     "end_time": "2025-06-25T23:19:34.706508",
     "exception": false,
     "start_time": "2025-06-25T23:19:34.696061",
     "status": "completed"
    },
    "tags": []
   },
   "outputs": [],
   "source": [
    "#Funcion limpiar OUTLIERS\n",
    "def df_limpiar(df_eval):\n",
    "    #dataframe para obtener medias sin incluir fecha actual\n",
    "    df_eval2 = df_eval[df_eval['datetime']<max_day_str2].tail(100)\n",
    "    \n",
    "    meandif1 = df_eval2['dif1'].mean()\n",
    "    stddif1 = df_eval2['dif1'].std()\n",
    "    topdif1 = meandif1 + stddif1 * 1.96\n",
    "\n",
    "    meandif2 = df_eval2['dif2'].mean()\n",
    "    stddif2 = df_eval2['dif2'].std()\n",
    "    topdif2 = meandif2 + stddif2 * 1.96\n",
    "    \n",
    "    #botdif = meandif - stddif * 3\n",
    "    copydf = df_eval.copy()\n",
    "    \n",
    "    #df_h.apply(lambda row: row['High'] - row['Close'] if row['Close'] > row['Open'] else row['High'] - row['Open'], axis=1)\n",
    "    copydf['ind1'] = copydf.apply(lambda row: 1 if row['dif1'] > topdif1 else 0, axis=1)\n",
    "    copydf['ind2'] = copydf.apply(lambda row: 1 if row['dif2'] > topdif2 else 0, axis=1)\n",
    "\n",
    "    #hoy = datetime.now()    \n",
    "    #mes_actual = hoy.replace(day=1)\n",
    "    #mes_fin = mes_actual - relativedelta(months=3)\n",
    "    #hace_12_meses = mes_actual - relativedelta(months=12)\n",
    "    #cuartil 3\n",
    "    q3_dif1 = copydf[copydf['ind1']!=1]['dif1'].quantile(0.75)\n",
    "    q3_dif2 = copydf[copydf['ind2']!=1]['dif2'].quantile(0.75)\n",
    "    \n",
    "    #meanfin1 = copydf[(copydf['ind1']==1) & (copydf['datetime'] >= hace_12_meses) & (copydf['datetime'] < mes_fin)]['dif1'].mean()\n",
    "    #meanfin2 = copydf[(copydf['ind2']==1) & (copydf['datetime'] >= hace_12_meses) & (copydf['datetime'] < mes_fin)]['dif2'].mean()\n",
    "\n",
    "    print(\"q3_dif1:\",q3_dif1)\n",
    "    print(\"q3_dif2:\",q3_dif2)\n",
    "\n",
    "    copydf['High2']=copydf.apply(\n",
    "        lambda row: row['Close'] + q3_dif1 if (row['Close'] > row['Open']) & (row['ind1']==1) & (row['eval']==0)  else \n",
    "        row['Open'] + q3_dif1 if (row['Close'] <= row['Open']) & (row['ind1']==1) & (row['eval']==0) else\n",
    "        row['High'], axis=1)\n",
    "    copydf['Low2']=copydf.apply(\n",
    "        lambda row: row['Open'] - q3_dif2 if (row['Close'] > row['Open']) & (row['ind2']==1) & (row['eval']==0) else \n",
    "        row['Close'] - q3_dif2 if (row['Close'] <= row['Open']) & (row['ind2']==1) & (row['eval']==0) else\n",
    "        row['Low'], axis=1)\n",
    "   \n",
    "    #copydf = copydf.drop(copydf[copydf['dif1'] > topdif1].index)\n",
    "    #copydf = copydf.drop(copydf[copydf['dif2'] > topdif2].index)\n",
    "    return copydf"
   ]
  },
  {
   "cell_type": "code",
   "execution_count": 10,
   "id": "45de6ea8",
   "metadata": {
    "execution": {
     "iopub.execute_input": "2025-06-25T23:19:34.711453Z",
     "iopub.status.busy": "2025-06-25T23:19:34.711256Z",
     "iopub.status.idle": "2025-06-25T23:19:50.172693Z",
     "shell.execute_reply": "2025-06-25T23:19:50.172059Z"
    },
    "papermill": {
     "duration": 15.465047,
     "end_time": "2025-06-25T23:19:50.173698",
     "exception": false,
     "start_time": "2025-06-25T23:19:34.708651",
     "status": "completed"
    },
    "tags": []
   },
   "outputs": [
    {
     "name": "stdout",
     "output_type": "stream",
     "text": [
      "q3_dif1: 0.5\n",
      "q3_dif2: 0.6399841308594176\n"
     ]
    },
    {
     "name": "stdout",
     "output_type": "stream",
     "text": [
      "q3_dif1: 1.31121826171875\n",
      "q3_dif2: 1.37518310546875\n"
     ]
    },
    {
     "name": "stdout",
     "output_type": "stream",
     "text": [
      "q3_dif1: 0.4072723388671946\n",
      "q3_dif2: 0.399993896484375\n"
     ]
    },
    {
     "name": "stdout",
     "output_type": "stream",
     "text": [
      "q3_dif1: 0.415008544921875\n",
      "q3_dif2: 0.4434967041015625\n"
     ]
    },
    {
     "name": "stdout",
     "output_type": "stream",
     "text": [
      "q3_dif1: 1.75\n",
      "q3_dif2: 1.7193632812500255\n"
     ]
    },
    {
     "name": "stdout",
     "output_type": "stream",
     "text": [
      "q3_dif1: 0.24000167846679688\n",
      "q3_dif2: 0.19520187377929688\n"
     ]
    },
    {
     "name": "stdout",
     "output_type": "stream",
     "text": [
      "q3_dif1: 1.1400871276855469\n",
      "q3_dif2: 1.20001220703125\n"
     ]
    },
    {
     "name": "stdout",
     "output_type": "stream",
     "text": [
      "q3_dif1: 0.14300155639648438\n",
      "q3_dif2: 0.18000030517578125\n"
     ]
    },
    {
     "name": "stdout",
     "output_type": "stream",
     "text": [
      "q3_dif1: 0.20650482177735796\n",
      "q3_dif2: 0.23001098632809658\n"
     ]
    },
    {
     "name": "stdout",
     "output_type": "stream",
     "text": [
      "q3_dif1: 0.03989982604980469\n",
      "q3_dif2: 0.049999237060546875\n"
     ]
    },
    {
     "name": "stdout",
     "output_type": "stream",
     "text": [
      "q3_dif1: 0.15900421142578125\n",
      "q3_dif2: 0.16499900817871094\n"
     ]
    },
    {
     "name": "stdout",
     "output_type": "stream",
     "text": [
      "q3_dif1: 0.07000350952148438\n",
      "q3_dif2: 0.07397270202636719\n"
     ]
    },
    {
     "name": "stdout",
     "output_type": "stream",
     "text": [
      "q3_dif1: 0.2649993896484375\n",
      "q3_dif2: 0.2849922180175781\n"
     ]
    },
    {
     "name": "stdout",
     "output_type": "stream",
     "text": [
      "q3_dif1: 0.1999969482422017\n",
      "q3_dif2: 0.214996337890625\n"
     ]
    },
    {
     "name": "stdout",
     "output_type": "stream",
     "text": [
      "q3_dif1: 0.5946960449219318\n",
      "q3_dif2: 0.7489013671874858\n"
     ]
    },
    {
     "name": "stdout",
     "output_type": "stream",
     "text": [
      "q3_dif1: 0.7098999023436932\n",
      "q3_dif2: 0.764984130859375\n"
     ]
    },
    {
     "name": "stdout",
     "output_type": "stream",
     "text": [
      "q3_dif1: 0.30929946899414773\n",
      "q3_dif2: 0.38985633850097656\n"
     ]
    },
    {
     "name": "stdout",
     "output_type": "stream",
     "text": [
      "q3_dif1: 0.1183319091796804\n",
      "q3_dif2: 0.1199951171875\n"
     ]
    },
    {
     "name": "stdout",
     "output_type": "stream",
     "text": [
      "q3_dif1: 0.5200042724609375\n",
      "q3_dif2: 0.4799957275390625\n"
     ]
    },
    {
     "name": "stdout",
     "output_type": "stream",
     "text": [
      "q3_dif1: 0.1849975585937429\n",
      "q3_dif2: 0.17875099182128906\n"
     ]
    },
    {
     "name": "stdout",
     "output_type": "stream",
     "text": [
      "q3_dif1: 0.6099853515625\n",
      "q3_dif2: 0.6900711059570881\n"
     ]
    },
    {
     "name": "stdout",
     "output_type": "stream",
     "text": [
      "q3_dif1: 0.3399047851562784\n",
      "q3_dif2: 0.3600006103515625\n"
     ]
    },
    {
     "name": "stdout",
     "output_type": "stream",
     "text": [
      "q3_dif1: 0.1298980712890625\n",
      "q3_dif2: 0.13000106811523438\n"
     ]
    },
    {
     "name": "stdout",
     "output_type": "stream",
     "text": [
      "q3_dif1: 0.20000076293945135\n",
      "q3_dif2: 0.2100067138671733\n"
     ]
    },
    {
     "name": "stdout",
     "output_type": "stream",
     "text": [
      "q3_dif1: 0.3999938964843963\n",
      "q3_dif2: 0.45000457763671875\n"
     ]
    },
    {
     "name": "stdout",
     "output_type": "stream",
     "text": [
      "q3_dif1: 0.5249977111816406\n",
      "q3_dif2: 0.5500030517577841\n"
     ]
    },
    {
     "name": "stdout",
     "output_type": "stream",
     "text": [
      "q3_dif1: 0.1399993896484375\n",
      "q3_dif2: 0.14000320434571023\n"
     ]
    },
    {
     "name": "stdout",
     "output_type": "stream",
     "text": [
      "q3_dif1: 1.0800018310546733\n",
      "q3_dif2: 1.0475025177001953\n"
     ]
    },
    {
     "name": "stdout",
     "output_type": "stream",
     "text": [
      "q3_dif1: 1.220001220703125\n",
      "q3_dif2: 1.2030029296875\n"
     ]
    },
    {
     "name": "stdout",
     "output_type": "stream",
     "text": [
      "q3_dif1: 0.96002197265625\n",
      "q3_dif2: 0.9200439453125\n"
     ]
    },
    {
     "name": "stdout",
     "output_type": "stream",
     "text": [
      "q3_dif1: 0.33199310302734375\n",
      "q3_dif2: 0.36449432373046875\n"
     ]
    },
    {
     "name": "stdout",
     "output_type": "stream",
     "text": [
      "q3_dif1: 0.6899986267089844\n",
      "q3_dif2: 0.742706298828125\n"
     ]
    },
    {
     "name": "stdout",
     "output_type": "stream",
     "text": [
      "q3_dif1: 0.20122432708740412\n",
      "q3_dif2: 0.20999908447265625\n"
     ]
    }
   ],
   "source": [
    "df_new2 = pd.DataFrame()\n",
    "for ticker in tickers:\n",
    "    #Informacion anterior por ticker\n",
    "    df_ticker = df2[(df2['datetime'] <  max_day_str2) & (df2['companyName']==ticker)]\n",
    "    df_ticker = df_ticker.reset_index(drop=True)\n",
    "    df_ticker['datetime'] = pd.to_datetime(df_ticker['datetime'])\n",
    "    #crear columnas de diferencia\n",
    "    df_ticker['dif1'] = df_ticker.apply(lambda row: row['High'] - row['Close'] if row['Close'] > row['Open'] else row['High'] - row['Open'], axis=1)\n",
    "    df_ticker['dif2'] = df_ticker.apply(lambda row: row['Open'] - row['Low'] if row['Close'] > row['Open'] else row['Close'] - row['Low'], axis=1)\n",
    "    df_ticker['eval'] = 1 #no se limpiara\n",
    "    #Aplha vantage descarga intraday\n",
    "    url='https://www.alphavantage.co/query?function=TIME_SERIES_INTRADAY&symbol=' + str(ticker)+ '&interval=60min&entitlement=delayed&apikey=HR9C4MJVM7O4UUCM&datatype=csv'\n",
    "    company = pd.read_csv(url, sep=',')         \n",
    "    company = company[['close','high','low','open','volume','timestamp']]\n",
    "    company=company.rename(columns={\"open\": \"Open\",\"high\": \"High\",\"low\": \"Low\",\"close\": \"Close\",\"volume\": \"Volume\",\"timestamp\": \"datetime\"})        \n",
    "    company['companyName']=ticker\n",
    "    company['datetime'] = pd.to_datetime(company['datetime'])\n",
    "    company['datetime'] = company['datetime'].dt.tz_localize('UTC')\n",
    "    #company['datetime'] = company['datetime'].dt.tz_localize('US/Eastern')\n",
    "    company_lastday = company[company['datetime']>=max_day_str2]\n",
    "    company_lastday = company_lastday.sort_values(by=['datetime'], ascending=[True])\n",
    "    \n",
    "    #crear columnas diferencia de las colas (se evaluara el ultimo dia)\n",
    "    company_lastday['dif1'] = company_lastday.apply(lambda row: row['High'] - row['Close'] if row['Close'] > row['Open'] else row['High'] - row['Open'], axis=1)\n",
    "    company_lastday['dif2'] = company_lastday.apply(lambda row: row['Open'] - row['Low'] if row['Close'] > row['Open'] else row['Close'] - row['Low'], axis=1)\n",
    "    company_lastday['eval'] = 0 # se limpiara    \n",
    "    df_ticker = pd.concat([df_ticker, company_lastday],ignore_index=True)    \n",
    "    company_final = df_limpiar(df_ticker)    \n",
    "    df_new2 = pd.concat([df_new2, company_final],ignore_index=True)"
   ]
  },
  {
   "cell_type": "code",
   "execution_count": 11,
   "id": "58ab14cb",
   "metadata": {
    "execution": {
     "iopub.execute_input": "2025-06-25T23:19:50.181938Z",
     "iopub.status.busy": "2025-06-25T23:19:50.181494Z",
     "iopub.status.idle": "2025-06-25T23:19:50.186550Z",
     "shell.execute_reply": "2025-06-25T23:19:50.186008Z"
    },
    "papermill": {
     "duration": 0.010144,
     "end_time": "2025-06-25T23:19:50.187422",
     "exception": false,
     "start_time": "2025-06-25T23:19:50.177278",
     "status": "completed"
    },
    "tags": []
   },
   "outputs": [],
   "source": [
    "df_new2['High'] = np.where(df_new2['eval'] == 0, df_new2['High2'], df_new2['High'])\n",
    "df_new2['Low'] = np.where(df_new2['eval'] == 0, df_new2['Low2'], df_new2['Low'])"
   ]
  },
  {
   "cell_type": "code",
   "execution_count": 12,
   "id": "c615c99e",
   "metadata": {
    "execution": {
     "iopub.execute_input": "2025-06-25T23:19:50.195441Z",
     "iopub.status.busy": "2025-06-25T23:19:50.194958Z",
     "iopub.status.idle": "2025-06-25T23:19:50.200856Z",
     "shell.execute_reply": "2025-06-25T23:19:50.200321Z"
    },
    "papermill": {
     "duration": 0.010918,
     "end_time": "2025-06-25T23:19:50.201812",
     "exception": false,
     "start_time": "2025-06-25T23:19:50.190894",
     "status": "completed"
    },
    "tags": []
   },
   "outputs": [],
   "source": [
    "df_new2 = df_new2.drop(columns=['dif1', 'dif2', 'eval', 'ind1', 'ind2', 'High2','Low2' ])"
   ]
  },
  {
   "cell_type": "code",
   "execution_count": 13,
   "id": "a26f0e91-cf20-463d-905e-7d63bfcbf0b0",
   "metadata": {
    "execution": {
     "iopub.execute_input": "2025-06-25T23:19:50.210098Z",
     "iopub.status.busy": "2025-06-25T23:19:50.209536Z",
     "iopub.status.idle": "2025-06-25T23:19:50.352112Z",
     "shell.execute_reply": "2025-06-25T23:19:50.351458Z"
    },
    "papermill": {
     "duration": 0.147898,
     "end_time": "2025-06-25T23:19:50.353205",
     "exception": false,
     "start_time": "2025-06-25T23:19:50.205307",
     "status": "completed"
    },
    "tags": []
   },
   "outputs": [],
   "source": [
    "#descarga de informacion, estrategia: RUPTURA DEL CANAL BAJISTA\n",
    "path='data/dataxd.txt'\n",
    "folder=os.path.dirname(path)\n",
    "\n",
    "if not os.path.exists(folder):\n",
    "    os.makedirs(folder)\n",
    "\n",
    "if os.path.exists(path):\n",
    "    # delete the file\n",
    "    os.remove(path)\n",
    "else:\n",
    "    # if the file does not exist.\n",
    "    print(\"File does not exists. File needs to be created.\")\n",
    "\n",
    "#export DataFrame to text file\n",
    "with open(path, 'a') as f:\n",
    "    #df_string = appl_hor3.to_string(header=True, index=False, sep ='\\t')\n",
    "    df_new1.to_csv(path, header=True, index=None, sep='\\t', mode='w')\n",
    "    #f.write(df_string)"
   ]
  },
  {
   "cell_type": "code",
   "execution_count": 14,
   "id": "9adc5089",
   "metadata": {
    "execution": {
     "iopub.execute_input": "2025-06-25T23:19:50.361093Z",
     "iopub.status.busy": "2025-06-25T23:19:50.360863Z",
     "iopub.status.idle": "2025-06-25T23:19:51.269636Z",
     "shell.execute_reply": "2025-06-25T23:19:51.268967Z"
    },
    "papermill": {
     "duration": 0.913819,
     "end_time": "2025-06-25T23:19:51.270765",
     "exception": false,
     "start_time": "2025-06-25T23:19:50.356946",
     "status": "completed"
    },
    "tags": []
   },
   "outputs": [],
   "source": [
    "#descarga de informacion\n",
    "path='data/dataxh.txt'\n",
    "# check whether the file exists\n",
    "if os.path.exists(path):\n",
    "    # delete the file\n",
    "    os.remove(path)\n",
    "else:\n",
    "    # if the file does not exist.\n",
    "    print(\"File does not exists. File needs to be created.\")\n",
    "\n",
    "#export DataFrame to text file\n",
    "with open(path, 'a') as f:\n",
    "    #df_string = appl_hor3.to_string(header=True, index=False, sep ='\\t')\n",
    "    df_new2.to_csv(path, header=True, index=None, sep='\\t', mode='w')\n",
    "    #f.write(df_string)"
   ]
  }
 ],
 "metadata": {
  "kernelspec": {
   "display_name": "Python [conda env:base] *",
   "language": "python",
   "name": "conda-base-py"
  },
  "language_info": {
   "codemirror_mode": {
    "name": "ipython",
    "version": 3
   },
   "file_extension": ".py",
   "mimetype": "text/x-python",
   "name": "python",
   "nbconvert_exporter": "python",
   "pygments_lexer": "ipython3",
   "version": "3.10.18"
  },
  "papermill": {
   "default_parameters": {},
   "duration": 21.314507,
   "end_time": "2025-06-25T23:19:51.489381",
   "environment_variables": {},
   "exception": null,
   "input_path": "downLoadDataRealtimeAlpha.ipynb",
   "output_path": "downLoadDataRealtimeAlpha.ipynb.ipynb_out.ipynb",
   "parameters": {},
   "start_time": "2025-06-25T23:19:30.174874",
   "version": "2.6.0"
  }
 },
 "nbformat": 4,
 "nbformat_minor": 5
}