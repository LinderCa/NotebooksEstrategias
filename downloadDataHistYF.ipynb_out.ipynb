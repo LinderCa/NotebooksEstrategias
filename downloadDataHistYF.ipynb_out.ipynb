{
 "cells": [
  {
   "cell_type": "markdown",
   "id": "04e6744f-9615-43cf-9b5c-084423927d07",
   "metadata": {
    "papermill": {
     "duration": 0.002632,
     "end_time": "2025-06-27T09:14:51.739767",
     "exception": false,
     "start_time": "2025-06-27T09:14:51.737135",
     "status": "completed"
    },
    "tags": []
   },
   "source": [
    "### Descarga de datos usando YFINANCE\n",
    "##### Ejecutar 1 vez al dia"
   ]
  },
  {
   "cell_type": "code",
   "execution_count": 1,
   "id": "9d3c2873-f166-4057-8897-e43b6d39390c",
   "metadata": {
    "execution": {
     "iopub.execute_input": "2025-06-27T09:14:51.780238Z",
     "iopub.status.busy": "2025-06-27T09:14:51.779648Z",
     "iopub.status.idle": "2025-06-27T09:14:52.150873Z",
     "shell.execute_reply": "2025-06-27T09:14:52.150208Z"
    },
    "papermill": {
     "duration": 0.410293,
     "end_time": "2025-06-27T09:14:52.152115",
     "exception": false,
     "start_time": "2025-06-27T09:14:51.741822",
     "status": "completed"
    },
    "tags": []
   },
   "outputs": [],
   "source": [
    "import pandas as pd\n",
    "import yfinance as yf\n",
    "import os\n",
    "from datetime import date, timedelta"
   ]
  },
  {
   "cell_type": "code",
   "execution_count": 2,
   "id": "ca1000a8",
   "metadata": {
    "execution": {
     "iopub.execute_input": "2025-06-27T09:14:52.233258Z",
     "iopub.status.busy": "2025-06-27T09:14:52.232709Z",
     "iopub.status.idle": "2025-06-27T09:14:52.261273Z",
     "shell.execute_reply": "2025-06-27T09:14:52.260703Z"
    },
    "papermill": {
     "duration": 0.081888,
     "end_time": "2025-06-27T09:14:52.262185",
     "exception": false,
     "start_time": "2025-06-27T09:14:52.180297",
     "status": "completed"
    },
    "tags": []
   },
   "outputs": [
    {
     "name": "stdout",
     "output_type": "stream",
     "text": [
      "Archivo cargado correctamente.\n"
     ]
    }
   ],
   "source": [
    "#LEER POR DIA\n",
    "ruta_archivo='data/dataxd.txt'\n",
    "if os.path.exists(ruta_archivo):\n",
    "    # Cargar el archivo\n",
    "    df1 = pd.read_csv(ruta_archivo, sep='\\t')\n",
    "    print(\"Archivo cargado correctamente.\")\n",
    "else:\n",
    "    # Crear un DataFrame vacío\n",
    "    df1 = pd.DataFrame()\n",
    "    print(\"Archivo no existe. Se creó un DataFrame vacío.\")"
   ]
  },
  {
   "cell_type": "code",
   "execution_count": 3,
   "id": "fdd7442c-1fa8-45c1-a8c6-37fd52f04ea7",
   "metadata": {
    "execution": {
     "iopub.execute_input": "2025-06-27T09:14:52.285593Z",
     "iopub.status.busy": "2025-06-27T09:14:52.285340Z",
     "iopub.status.idle": "2025-06-27T09:14:52.382198Z",
     "shell.execute_reply": "2025-06-27T09:14:52.381554Z"
    },
    "papermill": {
     "duration": 0.105428,
     "end_time": "2025-06-27T09:14:52.383199",
     "exception": false,
     "start_time": "2025-06-27T09:14:52.277771",
     "status": "completed"
    },
    "tags": []
   },
   "outputs": [
    {
     "name": "stdout",
     "output_type": "stream",
     "text": [
      "Archivo cargado correctamente.\n"
     ]
    }
   ],
   "source": [
    "#ruta_archivo = r\"D:\\traderxpro\\data\\dataxh.txt\"\n",
    "ruta_archivo='data/dataxh.txt'\n",
    "if os.path.exists(ruta_archivo):\n",
    "    # Cargar el archivo\n",
    "    df2 = pd.read_csv(ruta_archivo, sep='\\t')\n",
    "    print(\"Archivo cargado correctamente.\")\n",
    "else:\n",
    "    # Crear un DataFrame vacío\n",
    "    df2 = pd.DataFrame()\n",
    "    print(\"Archivo no existe. Se creó un DataFrame vacío.\")"
   ]
  },
  {
   "cell_type": "code",
   "execution_count": 4,
   "id": "32ccd514-843c-40cc-95a4-8d1d504fdfda",
   "metadata": {
    "execution": {
     "iopub.execute_input": "2025-06-27T09:14:52.632214Z",
     "iopub.status.busy": "2025-06-27T09:14:52.631660Z",
     "iopub.status.idle": "2025-06-27T09:14:52.637403Z",
     "shell.execute_reply": "2025-06-27T09:14:52.636835Z"
    },
    "papermill": {
     "duration": 0.25312,
     "end_time": "2025-06-27T09:14:52.638266",
     "exception": false,
     "start_time": "2025-06-27T09:14:52.385146",
     "status": "completed"
    },
    "tags": []
   },
   "outputs": [],
   "source": [
    "ini1=date.today() - timedelta(days=1095) #3 years ago\n",
    "ini2 = date.today() - timedelta(days=728) # 2 years ago\n",
    "ayer = date.today() - timedelta(days=1) # 2 years ago\n",
    "today = date.today()\n",
    "today_str = str(today)\n",
    "ini1_str=str(ini1)\n",
    "ini2_str = str(ini2)\n",
    "tickers = [\n",
    "    'SPY',\n",
    "    'META',\n",
    "    'AAPL',\n",
    "    'AMZN',\n",
    "    'NFLX',\n",
    "    'MRNA',\n",
    "    'TSLA',\n",
    "    'TNA',\n",
    "    'GLD',\n",
    "    'SLV',\n",
    "    'USO',\n",
    "    'BAC',\n",
    "    'CVX',\n",
    "    'XOM',\n",
    "    'QQQ',\n",
    "    'MSFT',\n",
    "    'NVDA',\n",
    "    'WMT',\n",
    "    'BA',\n",
    "    'DIS',\n",
    "    'CAT',\n",
    "    'IBM',\n",
    "    'WFC',\n",
    "    'PLTR',\n",
    "    'AMD',\n",
    "    'AVGO',\n",
    "    'HOOD',\n",
    "    'CRWV',\n",
    "    'MSTR',\n",
    "    'UNH',\n",
    "    'GOOG',\n",
    "    'APP',\n",
    "    'UBER'\n",
    "]"
   ]
  },
  {
   "cell_type": "code",
   "execution_count": 5,
   "id": "e56ff2c3-d879-427c-9f32-530a15fdcc5d",
   "metadata": {
    "execution": {
     "iopub.execute_input": "2025-06-27T09:14:52.777933Z",
     "iopub.status.busy": "2025-06-27T09:14:52.777252Z",
     "iopub.status.idle": "2025-06-27T09:14:59.428221Z",
     "shell.execute_reply": "2025-06-27T09:14:59.427722Z"
    },
    "papermill": {
     "duration": 6.74917,
     "end_time": "2025-06-27T09:14:59.429180",
     "exception": false,
     "start_time": "2025-06-27T09:14:52.680010",
     "status": "completed"
    },
    "tags": []
   },
   "outputs": [
    {
     "name": "stdout",
     "output_type": "stream",
     "text": [
      "h1\n"
     ]
    },
    {
     "name": "stderr",
     "output_type": "stream",
     "text": [
      "/tmp/ipykernel_2266/892114901.py:10: FutureWarning: YF.download() has changed argument auto_adjust default to True\n",
      "  company = yf.download(ticker, start = ini1_str, end = today_str, interval='1d')\n"
     ]
    },
    {
     "name": "stderr",
     "output_type": "stream",
     "text": [
      "\r",
      "[*********************100%***********************]  1 of 1 completed"
     ]
    },
    {
     "name": "stderr",
     "output_type": "stream",
     "text": [
      "\n",
      "/tmp/ipykernel_2266/892114901.py:14: FutureWarning: The behavior of DataFrame concatenation with empty or all-NA entries is deprecated. In a future version, this will no longer exclude empty or all-NA columns when determining the result dtypes. To retain the old behavior, exclude the relevant entries before the concat operation.\n",
      "  df_new1 = pd.concat([df_new1, company],ignore_index=True)\n",
      "/tmp/ipykernel_2266/892114901.py:10: FutureWarning: YF.download() has changed argument auto_adjust default to True\n",
      "  company = yf.download(ticker, start = ini1_str, end = today_str, interval='1d')\n",
      "\r",
      "[*********************100%***********************]  1 of 1 completed"
     ]
    },
    {
     "name": "stderr",
     "output_type": "stream",
     "text": [
      "\n",
      "/tmp/ipykernel_2266/892114901.py:10: FutureWarning: YF.download() has changed argument auto_adjust default to True\n",
      "  company = yf.download(ticker, start = ini1_str, end = today_str, interval='1d')\n"
     ]
    },
    {
     "name": "stderr",
     "output_type": "stream",
     "text": [
      "\r",
      "[*********************100%***********************]  1 of 1 completed"
     ]
    },
    {
     "name": "stderr",
     "output_type": "stream",
     "text": [
      "\n",
      "/tmp/ipykernel_2266/892114901.py:10: FutureWarning: YF.download() has changed argument auto_adjust default to True\n",
      "  company = yf.download(ticker, start = ini1_str, end = today_str, interval='1d')\n",
      "\r",
      "[*********************100%***********************]  1 of 1 completed"
     ]
    },
    {
     "name": "stderr",
     "output_type": "stream",
     "text": [
      "\n",
      "/tmp/ipykernel_2266/892114901.py:10: FutureWarning: YF.download() has changed argument auto_adjust default to True\n",
      "  company = yf.download(ticker, start = ini1_str, end = today_str, interval='1d')\n"
     ]
    },
    {
     "name": "stderr",
     "output_type": "stream",
     "text": [
      "\r",
      "[*********************100%***********************]  1 of 1 completed"
     ]
    },
    {
     "name": "stderr",
     "output_type": "stream",
     "text": [
      "\n",
      "/tmp/ipykernel_2266/892114901.py:10: FutureWarning: YF.download() has changed argument auto_adjust default to True\n",
      "  company = yf.download(ticker, start = ini1_str, end = today_str, interval='1d')\n"
     ]
    },
    {
     "name": "stderr",
     "output_type": "stream",
     "text": [
      "\r",
      "[*********************100%***********************]  1 of 1 completed"
     ]
    },
    {
     "name": "stderr",
     "output_type": "stream",
     "text": [
      "\n",
      "/tmp/ipykernel_2266/892114901.py:10: FutureWarning: YF.download() has changed argument auto_adjust default to True\n",
      "  company = yf.download(ticker, start = ini1_str, end = today_str, interval='1d')\n"
     ]
    },
    {
     "name": "stderr",
     "output_type": "stream",
     "text": [
      "\r",
      "[*********************100%***********************]  1 of 1 completed"
     ]
    },
    {
     "name": "stderr",
     "output_type": "stream",
     "text": [
      "\n",
      "/tmp/ipykernel_2266/892114901.py:10: FutureWarning: YF.download() has changed argument auto_adjust default to True\n",
      "  company = yf.download(ticker, start = ini1_str, end = today_str, interval='1d')\n"
     ]
    },
    {
     "name": "stderr",
     "output_type": "stream",
     "text": [
      "\r",
      "[*********************100%***********************]  1 of 1 completed"
     ]
    },
    {
     "name": "stderr",
     "output_type": "stream",
     "text": [
      "\n",
      "/tmp/ipykernel_2266/892114901.py:10: FutureWarning: YF.download() has changed argument auto_adjust default to True\n",
      "  company = yf.download(ticker, start = ini1_str, end = today_str, interval='1d')\n"
     ]
    },
    {
     "name": "stderr",
     "output_type": "stream",
     "text": [
      "\r",
      "[*********************100%***********************]  1 of 1 completed"
     ]
    },
    {
     "name": "stderr",
     "output_type": "stream",
     "text": [
      "\n",
      "/tmp/ipykernel_2266/892114901.py:10: FutureWarning: YF.download() has changed argument auto_adjust default to True\n",
      "  company = yf.download(ticker, start = ini1_str, end = today_str, interval='1d')\n"
     ]
    },
    {
     "name": "stderr",
     "output_type": "stream",
     "text": [
      "\r",
      "[*********************100%***********************]  1 of 1 completed"
     ]
    },
    {
     "name": "stderr",
     "output_type": "stream",
     "text": [
      "\n",
      "/tmp/ipykernel_2266/892114901.py:10: FutureWarning: YF.download() has changed argument auto_adjust default to True\n",
      "  company = yf.download(ticker, start = ini1_str, end = today_str, interval='1d')\n"
     ]
    },
    {
     "name": "stderr",
     "output_type": "stream",
     "text": [
      "\r",
      "[*********************100%***********************]  1 of 1 completed"
     ]
    },
    {
     "name": "stderr",
     "output_type": "stream",
     "text": [
      "\n",
      "/tmp/ipykernel_2266/892114901.py:10: FutureWarning: YF.download() has changed argument auto_adjust default to True\n",
      "  company = yf.download(ticker, start = ini1_str, end = today_str, interval='1d')\n"
     ]
    },
    {
     "name": "stderr",
     "output_type": "stream",
     "text": [
      "\r",
      "[*********************100%***********************]  1 of 1 completed"
     ]
    },
    {
     "name": "stderr",
     "output_type": "stream",
     "text": [
      "\n",
      "/tmp/ipykernel_2266/892114901.py:10: FutureWarning: YF.download() has changed argument auto_adjust default to True\n",
      "  company = yf.download(ticker, start = ini1_str, end = today_str, interval='1d')\n"
     ]
    },
    {
     "name": "stderr",
     "output_type": "stream",
     "text": [
      "\r",
      "[*********************100%***********************]  1 of 1 completed"
     ]
    },
    {
     "name": "stderr",
     "output_type": "stream",
     "text": [
      "\n",
      "/tmp/ipykernel_2266/892114901.py:10: FutureWarning: YF.download() has changed argument auto_adjust default to True\n",
      "  company = yf.download(ticker, start = ini1_str, end = today_str, interval='1d')\n"
     ]
    },
    {
     "name": "stderr",
     "output_type": "stream",
     "text": [
      "\r",
      "[*********************100%***********************]  1 of 1 completed"
     ]
    },
    {
     "name": "stderr",
     "output_type": "stream",
     "text": [
      "\n",
      "/tmp/ipykernel_2266/892114901.py:10: FutureWarning: YF.download() has changed argument auto_adjust default to True\n",
      "  company = yf.download(ticker, start = ini1_str, end = today_str, interval='1d')\n"
     ]
    },
    {
     "name": "stderr",
     "output_type": "stream",
     "text": [
      "\r",
      "[*********************100%***********************]  1 of 1 completed"
     ]
    },
    {
     "name": "stderr",
     "output_type": "stream",
     "text": [
      "\n",
      "/tmp/ipykernel_2266/892114901.py:10: FutureWarning: YF.download() has changed argument auto_adjust default to True\n",
      "  company = yf.download(ticker, start = ini1_str, end = today_str, interval='1d')\n"
     ]
    },
    {
     "name": "stderr",
     "output_type": "stream",
     "text": [
      "\r",
      "[*********************100%***********************]  1 of 1 completed"
     ]
    },
    {
     "name": "stderr",
     "output_type": "stream",
     "text": [
      "\n",
      "/tmp/ipykernel_2266/892114901.py:10: FutureWarning: YF.download() has changed argument auto_adjust default to True\n",
      "  company = yf.download(ticker, start = ini1_str, end = today_str, interval='1d')\n",
      "\r",
      "[*********************100%***********************]  1 of 1 completed"
     ]
    },
    {
     "name": "stderr",
     "output_type": "stream",
     "text": [
      "\n",
      "/tmp/ipykernel_2266/892114901.py:10: FutureWarning: YF.download() has changed argument auto_adjust default to True\n",
      "  company = yf.download(ticker, start = ini1_str, end = today_str, interval='1d')\n"
     ]
    },
    {
     "name": "stderr",
     "output_type": "stream",
     "text": [
      "\r",
      "[*********************100%***********************]  1 of 1 completed"
     ]
    },
    {
     "name": "stderr",
     "output_type": "stream",
     "text": [
      "\n",
      "/tmp/ipykernel_2266/892114901.py:10: FutureWarning: YF.download() has changed argument auto_adjust default to True\n",
      "  company = yf.download(ticker, start = ini1_str, end = today_str, interval='1d')\n"
     ]
    },
    {
     "name": "stderr",
     "output_type": "stream",
     "text": [
      "\r",
      "[*********************100%***********************]  1 of 1 completed"
     ]
    },
    {
     "name": "stderr",
     "output_type": "stream",
     "text": [
      "\n",
      "/tmp/ipykernel_2266/892114901.py:10: FutureWarning: YF.download() has changed argument auto_adjust default to True\n",
      "  company = yf.download(ticker, start = ini1_str, end = today_str, interval='1d')\n"
     ]
    },
    {
     "name": "stderr",
     "output_type": "stream",
     "text": [
      "\r",
      "[*********************100%***********************]  1 of 1 completed"
     ]
    },
    {
     "name": "stderr",
     "output_type": "stream",
     "text": [
      "\n",
      "/tmp/ipykernel_2266/892114901.py:10: FutureWarning: YF.download() has changed argument auto_adjust default to True\n",
      "  company = yf.download(ticker, start = ini1_str, end = today_str, interval='1d')\n"
     ]
    },
    {
     "name": "stderr",
     "output_type": "stream",
     "text": [
      "\r",
      "[*********************100%***********************]  1 of 1 completed"
     ]
    },
    {
     "name": "stderr",
     "output_type": "stream",
     "text": [
      "\n",
      "/tmp/ipykernel_2266/892114901.py:10: FutureWarning: YF.download() has changed argument auto_adjust default to True\n",
      "  company = yf.download(ticker, start = ini1_str, end = today_str, interval='1d')\n"
     ]
    },
    {
     "name": "stderr",
     "output_type": "stream",
     "text": [
      "\r",
      "[*********************100%***********************]  1 of 1 completed"
     ]
    },
    {
     "name": "stderr",
     "output_type": "stream",
     "text": [
      "\n",
      "/tmp/ipykernel_2266/892114901.py:10: FutureWarning: YF.download() has changed argument auto_adjust default to True\n",
      "  company = yf.download(ticker, start = ini1_str, end = today_str, interval='1d')\n"
     ]
    },
    {
     "name": "stderr",
     "output_type": "stream",
     "text": [
      "\r",
      "[*********************100%***********************]  1 of 1 completed"
     ]
    },
    {
     "name": "stderr",
     "output_type": "stream",
     "text": [
      "\n",
      "/tmp/ipykernel_2266/892114901.py:10: FutureWarning: YF.download() has changed argument auto_adjust default to True\n",
      "  company = yf.download(ticker, start = ini1_str, end = today_str, interval='1d')\n",
      "\r",
      "[*********************100%***********************]  1 of 1 completed"
     ]
    },
    {
     "name": "stderr",
     "output_type": "stream",
     "text": [
      "\n",
      "/tmp/ipykernel_2266/892114901.py:10: FutureWarning: YF.download() has changed argument auto_adjust default to True\n",
      "  company = yf.download(ticker, start = ini1_str, end = today_str, interval='1d')\n"
     ]
    },
    {
     "name": "stderr",
     "output_type": "stream",
     "text": [
      "\r",
      "[*********************100%***********************]  1 of 1 completed"
     ]
    },
    {
     "name": "stderr",
     "output_type": "stream",
     "text": [
      "\n",
      "/tmp/ipykernel_2266/892114901.py:10: FutureWarning: YF.download() has changed argument auto_adjust default to True\n",
      "  company = yf.download(ticker, start = ini1_str, end = today_str, interval='1d')\n"
     ]
    },
    {
     "name": "stderr",
     "output_type": "stream",
     "text": [
      "\r",
      "[*********************100%***********************]  1 of 1 completed"
     ]
    },
    {
     "name": "stderr",
     "output_type": "stream",
     "text": [
      "\n",
      "/tmp/ipykernel_2266/892114901.py:10: FutureWarning: YF.download() has changed argument auto_adjust default to True\n",
      "  company = yf.download(ticker, start = ini1_str, end = today_str, interval='1d')\n"
     ]
    },
    {
     "name": "stderr",
     "output_type": "stream",
     "text": [
      "\r",
      "[*********************100%***********************]  1 of 1 completed"
     ]
    },
    {
     "name": "stderr",
     "output_type": "stream",
     "text": [
      "\n",
      "/tmp/ipykernel_2266/892114901.py:10: FutureWarning: YF.download() has changed argument auto_adjust default to True\n",
      "  company = yf.download(ticker, start = ini1_str, end = today_str, interval='1d')\n"
     ]
    },
    {
     "name": "stderr",
     "output_type": "stream",
     "text": [
      "\r",
      "[*********************100%***********************]  1 of 1 completed"
     ]
    },
    {
     "name": "stderr",
     "output_type": "stream",
     "text": [
      "\n",
      "/tmp/ipykernel_2266/892114901.py:10: FutureWarning: YF.download() has changed argument auto_adjust default to True\n",
      "  company = yf.download(ticker, start = ini1_str, end = today_str, interval='1d')\n"
     ]
    },
    {
     "name": "stderr",
     "output_type": "stream",
     "text": [
      "\r",
      "[*********************100%***********************]  1 of 1 completed"
     ]
    },
    {
     "name": "stderr",
     "output_type": "stream",
     "text": [
      "\n",
      "/tmp/ipykernel_2266/892114901.py:10: FutureWarning: YF.download() has changed argument auto_adjust default to True\n",
      "  company = yf.download(ticker, start = ini1_str, end = today_str, interval='1d')\n"
     ]
    },
    {
     "name": "stderr",
     "output_type": "stream",
     "text": [
      "\r",
      "[*********************100%***********************]  1 of 1 completed"
     ]
    },
    {
     "name": "stderr",
     "output_type": "stream",
     "text": [
      "\n",
      "/tmp/ipykernel_2266/892114901.py:10: FutureWarning: YF.download() has changed argument auto_adjust default to True\n",
      "  company = yf.download(ticker, start = ini1_str, end = today_str, interval='1d')\n",
      "\r",
      "[*********************100%***********************]  1 of 1 completed"
     ]
    },
    {
     "name": "stderr",
     "output_type": "stream",
     "text": [
      "\n",
      "/tmp/ipykernel_2266/892114901.py:10: FutureWarning: YF.download() has changed argument auto_adjust default to True\n",
      "  company = yf.download(ticker, start = ini1_str, end = today_str, interval='1d')\n"
     ]
    },
    {
     "name": "stderr",
     "output_type": "stream",
     "text": [
      "\r",
      "[*********************100%***********************]  1 of 1 completed"
     ]
    },
    {
     "name": "stderr",
     "output_type": "stream",
     "text": [
      "\n",
      "/tmp/ipykernel_2266/892114901.py:10: FutureWarning: YF.download() has changed argument auto_adjust default to True\n",
      "  company = yf.download(ticker, start = ini1_str, end = today_str, interval='1d')\n"
     ]
    },
    {
     "name": "stderr",
     "output_type": "stream",
     "text": [
      "\r",
      "[*********************100%***********************]  1 of 1 completed"
     ]
    },
    {
     "name": "stderr",
     "output_type": "stream",
     "text": [
      "\n"
     ]
    }
   ],
   "source": [
    "if df1.shape[0]>0:\n",
    "    df_new1 = df1[(df1['datetime'] < ini1_str) & (df1['datetime'] >=  today_str)]\n",
    "    df_new1 = df_new1.reset_index(drop=True)\n",
    "    print(\"h1\")\n",
    "else:\n",
    "    df_new1 = pd.DataFrame()\n",
    "    print(\"h2\")\n",
    "#print(df_new2)\n",
    "for ticker in tickers:\n",
    "    company = yf.download(ticker, start = ini1_str, end = today_str, interval='1d')\n",
    "    company.columns = [company.columns[0][0], company.columns[1][0], company.columns[2][0], company.columns[3][0], company.columns[4][0]]\n",
    "    company['datetime'] = pd.to_datetime (company.index)\n",
    "    company['companyName'] = ticker\n",
    "    df_new1 = pd.concat([df_new1, company],ignore_index=True)"
   ]
  },
  {
   "cell_type": "code",
   "execution_count": 6,
   "id": "f87e2b0b",
   "metadata": {
    "execution": {
     "iopub.execute_input": "2025-06-27T09:14:59.438071Z",
     "iopub.status.busy": "2025-06-27T09:14:59.437856Z",
     "iopub.status.idle": "2025-06-27T09:15:08.040234Z",
     "shell.execute_reply": "2025-06-27T09:15:08.039754Z"
    },
    "papermill": {
     "duration": 8.607706,
     "end_time": "2025-06-27T09:15:08.041108",
     "exception": false,
     "start_time": "2025-06-27T09:14:59.433402",
     "status": "completed"
    },
    "tags": []
   },
   "outputs": [
    {
     "name": "stderr",
     "output_type": "stream",
     "text": [
      "/tmp/ipykernel_2266/2319155395.py:10: FutureWarning: YF.download() has changed argument auto_adjust default to True\n",
      "  company = yf.download(ticker, start = ini2_str, end = today_str, interval='60m')\n"
     ]
    },
    {
     "name": "stderr",
     "output_type": "stream",
     "text": [
      "\r",
      "[*********************100%***********************]  1 of 1 completed"
     ]
    },
    {
     "name": "stderr",
     "output_type": "stream",
     "text": [
      "\n",
      "/tmp/ipykernel_2266/2319155395.py:15: FutureWarning: The behavior of DataFrame concatenation with empty or all-NA entries is deprecated. In a future version, this will no longer exclude empty or all-NA columns when determining the result dtypes. To retain the old behavior, exclude the relevant entries before the concat operation.\n",
      "  df_new2 = pd.concat([df_new2, company],ignore_index=True)\n",
      "/tmp/ipykernel_2266/2319155395.py:10: FutureWarning: YF.download() has changed argument auto_adjust default to True\n",
      "  company = yf.download(ticker, start = ini2_str, end = today_str, interval='60m')\n"
     ]
    },
    {
     "name": "stdout",
     "output_type": "stream",
     "text": [
      "h1\n"
     ]
    },
    {
     "name": "stderr",
     "output_type": "stream",
     "text": [
      "\r",
      "[*********************100%***********************]  1 of 1 completed"
     ]
    },
    {
     "name": "stderr",
     "output_type": "stream",
     "text": [
      "\n",
      "/tmp/ipykernel_2266/2319155395.py:10: FutureWarning: YF.download() has changed argument auto_adjust default to True\n",
      "  company = yf.download(ticker, start = ini2_str, end = today_str, interval='60m')\n"
     ]
    },
    {
     "name": "stderr",
     "output_type": "stream",
     "text": [
      "\r",
      "[*********************100%***********************]  1 of 1 completed"
     ]
    },
    {
     "name": "stderr",
     "output_type": "stream",
     "text": [
      "\n",
      "/tmp/ipykernel_2266/2319155395.py:10: FutureWarning: YF.download() has changed argument auto_adjust default to True\n",
      "  company = yf.download(ticker, start = ini2_str, end = today_str, interval='60m')\n"
     ]
    },
    {
     "name": "stderr",
     "output_type": "stream",
     "text": [
      "\r",
      "[*********************100%***********************]  1 of 1 completed"
     ]
    },
    {
     "name": "stderr",
     "output_type": "stream",
     "text": [
      "\n",
      "/tmp/ipykernel_2266/2319155395.py:10: FutureWarning: YF.download() has changed argument auto_adjust default to True\n",
      "  company = yf.download(ticker, start = ini2_str, end = today_str, interval='60m')\n"
     ]
    },
    {
     "name": "stderr",
     "output_type": "stream",
     "text": [
      "\r",
      "[*********************100%***********************]  1 of 1 completed"
     ]
    },
    {
     "name": "stderr",
     "output_type": "stream",
     "text": [
      "\n",
      "/tmp/ipykernel_2266/2319155395.py:10: FutureWarning: YF.download() has changed argument auto_adjust default to True\n",
      "  company = yf.download(ticker, start = ini2_str, end = today_str, interval='60m')\n",
      "\r",
      "[*********************100%***********************]  1 of 1 completed"
     ]
    },
    {
     "name": "stderr",
     "output_type": "stream",
     "text": [
      "\n",
      "/tmp/ipykernel_2266/2319155395.py:10: FutureWarning: YF.download() has changed argument auto_adjust default to True\n",
      "  company = yf.download(ticker, start = ini2_str, end = today_str, interval='60m')\n"
     ]
    },
    {
     "name": "stderr",
     "output_type": "stream",
     "text": [
      "\r",
      "[*********************100%***********************]  1 of 1 completed"
     ]
    },
    {
     "name": "stderr",
     "output_type": "stream",
     "text": [
      "\n",
      "/tmp/ipykernel_2266/2319155395.py:10: FutureWarning: YF.download() has changed argument auto_adjust default to True\n",
      "  company = yf.download(ticker, start = ini2_str, end = today_str, interval='60m')\n"
     ]
    },
    {
     "name": "stderr",
     "output_type": "stream",
     "text": [
      "\r",
      "[*********************100%***********************]  1 of 1 completed"
     ]
    },
    {
     "name": "stderr",
     "output_type": "stream",
     "text": [
      "\n",
      "/tmp/ipykernel_2266/2319155395.py:10: FutureWarning: YF.download() has changed argument auto_adjust default to True\n",
      "  company = yf.download(ticker, start = ini2_str, end = today_str, interval='60m')\n"
     ]
    },
    {
     "name": "stderr",
     "output_type": "stream",
     "text": [
      "\r",
      "[*********************100%***********************]  1 of 1 completed"
     ]
    },
    {
     "name": "stderr",
     "output_type": "stream",
     "text": [
      "\n",
      "/tmp/ipykernel_2266/2319155395.py:10: FutureWarning: YF.download() has changed argument auto_adjust default to True\n",
      "  company = yf.download(ticker, start = ini2_str, end = today_str, interval='60m')\n",
      "\r",
      "[*********************100%***********************]  1 of 1 completed"
     ]
    },
    {
     "name": "stderr",
     "output_type": "stream",
     "text": [
      "\n",
      "/tmp/ipykernel_2266/2319155395.py:10: FutureWarning: YF.download() has changed argument auto_adjust default to True\n",
      "  company = yf.download(ticker, start = ini2_str, end = today_str, interval='60m')\n"
     ]
    },
    {
     "name": "stderr",
     "output_type": "stream",
     "text": [
      "\r",
      "[*********************100%***********************]  1 of 1 completed"
     ]
    },
    {
     "name": "stderr",
     "output_type": "stream",
     "text": [
      "\n",
      "/tmp/ipykernel_2266/2319155395.py:10: FutureWarning: YF.download() has changed argument auto_adjust default to True\n",
      "  company = yf.download(ticker, start = ini2_str, end = today_str, interval='60m')\n"
     ]
    },
    {
     "name": "stderr",
     "output_type": "stream",
     "text": [
      "\r",
      "[*********************100%***********************]  1 of 1 completed"
     ]
    },
    {
     "name": "stderr",
     "output_type": "stream",
     "text": [
      "\n",
      "/tmp/ipykernel_2266/2319155395.py:10: FutureWarning: YF.download() has changed argument auto_adjust default to True\n",
      "  company = yf.download(ticker, start = ini2_str, end = today_str, interval='60m')\n",
      "\r",
      "[*********************100%***********************]  1 of 1 completed"
     ]
    },
    {
     "name": "stderr",
     "output_type": "stream",
     "text": [
      "\n",
      "/tmp/ipykernel_2266/2319155395.py:10: FutureWarning: YF.download() has changed argument auto_adjust default to True\n",
      "  company = yf.download(ticker, start = ini2_str, end = today_str, interval='60m')\n"
     ]
    },
    {
     "name": "stderr",
     "output_type": "stream",
     "text": [
      "\r",
      "[*********************100%***********************]  1 of 1 completed"
     ]
    },
    {
     "name": "stderr",
     "output_type": "stream",
     "text": [
      "\n",
      "/tmp/ipykernel_2266/2319155395.py:10: FutureWarning: YF.download() has changed argument auto_adjust default to True\n",
      "  company = yf.download(ticker, start = ini2_str, end = today_str, interval='60m')\n",
      "\r",
      "[*********************100%***********************]  1 of 1 completed"
     ]
    },
    {
     "name": "stderr",
     "output_type": "stream",
     "text": [
      "\n"
     ]
    },
    {
     "name": "stderr",
     "output_type": "stream",
     "text": [
      "/tmp/ipykernel_2266/2319155395.py:10: FutureWarning: YF.download() has changed argument auto_adjust default to True\n",
      "  company = yf.download(ticker, start = ini2_str, end = today_str, interval='60m')\n",
      "\r",
      "[*********************100%***********************]  1 of 1 completed"
     ]
    },
    {
     "name": "stderr",
     "output_type": "stream",
     "text": [
      "\n"
     ]
    },
    {
     "name": "stderr",
     "output_type": "stream",
     "text": [
      "/tmp/ipykernel_2266/2319155395.py:10: FutureWarning: YF.download() has changed argument auto_adjust default to True\n",
      "  company = yf.download(ticker, start = ini2_str, end = today_str, interval='60m')\n"
     ]
    },
    {
     "name": "stderr",
     "output_type": "stream",
     "text": [
      "\r",
      "[*********************100%***********************]  1 of 1 completed"
     ]
    },
    {
     "name": "stderr",
     "output_type": "stream",
     "text": [
      "\n",
      "/tmp/ipykernel_2266/2319155395.py:10: FutureWarning: YF.download() has changed argument auto_adjust default to True\n",
      "  company = yf.download(ticker, start = ini2_str, end = today_str, interval='60m')\n"
     ]
    },
    {
     "name": "stderr",
     "output_type": "stream",
     "text": [
      "\r",
      "[*********************100%***********************]  1 of 1 completed"
     ]
    },
    {
     "name": "stderr",
     "output_type": "stream",
     "text": [
      "\n",
      "/tmp/ipykernel_2266/2319155395.py:10: FutureWarning: YF.download() has changed argument auto_adjust default to True\n",
      "  company = yf.download(ticker, start = ini2_str, end = today_str, interval='60m')\n"
     ]
    },
    {
     "name": "stderr",
     "output_type": "stream",
     "text": [
      "\r",
      "[*********************100%***********************]  1 of 1 completed"
     ]
    },
    {
     "name": "stderr",
     "output_type": "stream",
     "text": [
      "\n",
      "/tmp/ipykernel_2266/2319155395.py:10: FutureWarning: YF.download() has changed argument auto_adjust default to True\n",
      "  company = yf.download(ticker, start = ini2_str, end = today_str, interval='60m')\n"
     ]
    },
    {
     "name": "stderr",
     "output_type": "stream",
     "text": [
      "\r",
      "[*********************100%***********************]  1 of 1 completed"
     ]
    },
    {
     "name": "stderr",
     "output_type": "stream",
     "text": [
      "\n",
      "/tmp/ipykernel_2266/2319155395.py:10: FutureWarning: YF.download() has changed argument auto_adjust default to True\n",
      "  company = yf.download(ticker, start = ini2_str, end = today_str, interval='60m')\n",
      "\r",
      "[*********************100%***********************]  1 of 1 completed"
     ]
    },
    {
     "name": "stderr",
     "output_type": "stream",
     "text": [
      "\n"
     ]
    },
    {
     "name": "stderr",
     "output_type": "stream",
     "text": [
      "/tmp/ipykernel_2266/2319155395.py:10: FutureWarning: YF.download() has changed argument auto_adjust default to True\n",
      "  company = yf.download(ticker, start = ini2_str, end = today_str, interval='60m')\n",
      "\r",
      "[*********************100%***********************]  1 of 1 completed"
     ]
    },
    {
     "name": "stderr",
     "output_type": "stream",
     "text": [
      "\n"
     ]
    },
    {
     "name": "stderr",
     "output_type": "stream",
     "text": [
      "/tmp/ipykernel_2266/2319155395.py:10: FutureWarning: YF.download() has changed argument auto_adjust default to True\n",
      "  company = yf.download(ticker, start = ini2_str, end = today_str, interval='60m')\n"
     ]
    },
    {
     "name": "stderr",
     "output_type": "stream",
     "text": [
      "\r",
      "[*********************100%***********************]  1 of 1 completed"
     ]
    },
    {
     "name": "stderr",
     "output_type": "stream",
     "text": [
      "\n",
      "/tmp/ipykernel_2266/2319155395.py:10: FutureWarning: YF.download() has changed argument auto_adjust default to True\n",
      "  company = yf.download(ticker, start = ini2_str, end = today_str, interval='60m')\n",
      "\r",
      "[*********************100%***********************]  1 of 1 completed"
     ]
    },
    {
     "name": "stderr",
     "output_type": "stream",
     "text": [
      "\n",
      "/tmp/ipykernel_2266/2319155395.py:10: FutureWarning: YF.download() has changed argument auto_adjust default to True\n",
      "  company = yf.download(ticker, start = ini2_str, end = today_str, interval='60m')\n"
     ]
    },
    {
     "name": "stderr",
     "output_type": "stream",
     "text": [
      "\r",
      "[*********************100%***********************]  1 of 1 completed"
     ]
    },
    {
     "name": "stderr",
     "output_type": "stream",
     "text": [
      "\n"
     ]
    },
    {
     "name": "stderr",
     "output_type": "stream",
     "text": [
      "/tmp/ipykernel_2266/2319155395.py:10: FutureWarning: YF.download() has changed argument auto_adjust default to True\n",
      "  company = yf.download(ticker, start = ini2_str, end = today_str, interval='60m')\n"
     ]
    },
    {
     "name": "stderr",
     "output_type": "stream",
     "text": [
      "\r",
      "[*********************100%***********************]  1 of 1 completed"
     ]
    },
    {
     "name": "stderr",
     "output_type": "stream",
     "text": [
      "\n",
      "/tmp/ipykernel_2266/2319155395.py:10: FutureWarning: YF.download() has changed argument auto_adjust default to True\n",
      "  company = yf.download(ticker, start = ini2_str, end = today_str, interval='60m')\n"
     ]
    },
    {
     "name": "stderr",
     "output_type": "stream",
     "text": [
      "\r",
      "[*********************100%***********************]  1 of 1 completed"
     ]
    },
    {
     "name": "stderr",
     "output_type": "stream",
     "text": [
      "\n",
      "/tmp/ipykernel_2266/2319155395.py:10: FutureWarning: YF.download() has changed argument auto_adjust default to True\n",
      "  company = yf.download(ticker, start = ini2_str, end = today_str, interval='60m')\n",
      "\r",
      "[*********************100%***********************]  1 of 1 completed"
     ]
    },
    {
     "name": "stderr",
     "output_type": "stream",
     "text": [
      "\n",
      "/tmp/ipykernel_2266/2319155395.py:10: FutureWarning: YF.download() has changed argument auto_adjust default to True\n",
      "  company = yf.download(ticker, start = ini2_str, end = today_str, interval='60m')\n"
     ]
    },
    {
     "name": "stderr",
     "output_type": "stream",
     "text": [
      "\r",
      "[*********************100%***********************]  1 of 1 completed"
     ]
    },
    {
     "name": "stderr",
     "output_type": "stream",
     "text": [
      "\n",
      "/tmp/ipykernel_2266/2319155395.py:10: FutureWarning: YF.download() has changed argument auto_adjust default to True\n",
      "  company = yf.download(ticker, start = ini2_str, end = today_str, interval='60m')\n",
      "\r",
      "[*********************100%***********************]  1 of 1 completed"
     ]
    },
    {
     "name": "stderr",
     "output_type": "stream",
     "text": [
      "\n"
     ]
    },
    {
     "name": "stderr",
     "output_type": "stream",
     "text": [
      "/tmp/ipykernel_2266/2319155395.py:10: FutureWarning: YF.download() has changed argument auto_adjust default to True\n",
      "  company = yf.download(ticker, start = ini2_str, end = today_str, interval='60m')\n",
      "\r",
      "[*********************100%***********************]  1 of 1 completed"
     ]
    },
    {
     "name": "stderr",
     "output_type": "stream",
     "text": [
      "\n"
     ]
    },
    {
     "name": "stderr",
     "output_type": "stream",
     "text": [
      "/tmp/ipykernel_2266/2319155395.py:10: FutureWarning: YF.download() has changed argument auto_adjust default to True\n",
      "  company = yf.download(ticker, start = ini2_str, end = today_str, interval='60m')\n"
     ]
    },
    {
     "name": "stderr",
     "output_type": "stream",
     "text": [
      "\r",
      "[*********************100%***********************]  1 of 1 completed"
     ]
    },
    {
     "name": "stderr",
     "output_type": "stream",
     "text": [
      "\n",
      "/tmp/ipykernel_2266/2319155395.py:10: FutureWarning: YF.download() has changed argument auto_adjust default to True\n",
      "  company = yf.download(ticker, start = ini2_str, end = today_str, interval='60m')\n",
      "\r",
      "[*********************100%***********************]  1 of 1 completed"
     ]
    },
    {
     "name": "stderr",
     "output_type": "stream",
     "text": [
      "\n"
     ]
    }
   ],
   "source": [
    "if df2.shape[0]>0:\n",
    "    df_new2 = df2[(df2['datetime'] < ini2_str) & (df2['datetime'] >=  today_str)]\n",
    "    df_new2 = df_new2.reset_index(drop=True)\n",
    "    print(\"h1\")\n",
    "else:\n",
    "    df_new2 = pd.DataFrame()\n",
    "    print(\"h2\")\n",
    "#print(df_new2)\n",
    "for ticker in tickers:\n",
    "    company = yf.download(ticker, start = ini2_str, end = today_str, interval='60m')\n",
    "    company.columns = [company.columns[0][0], company.columns[1][0], company.columns[2][0], company.columns[3][0], company.columns[4][0]]\n",
    "    #company.rename(columns={'Datetime':'Gmt time'}, inplace = True)\n",
    "    company['datetime'] = pd.to_datetime (company.index)\n",
    "    company['companyName'] = ticker\n",
    "    df_new2 = pd.concat([df_new2, company],ignore_index=True)"
   ]
  },
  {
   "cell_type": "code",
   "execution_count": 7,
   "id": "7207b602",
   "metadata": {
    "execution": {
     "iopub.execute_input": "2025-06-27T09:15:08.054317Z",
     "iopub.status.busy": "2025-06-27T09:15:08.053916Z",
     "iopub.status.idle": "2025-06-27T09:15:08.220047Z",
     "shell.execute_reply": "2025-06-27T09:15:08.219351Z"
    },
    "papermill": {
     "duration": 0.173686,
     "end_time": "2025-06-27T09:15:08.221183",
     "exception": false,
     "start_time": "2025-06-27T09:15:08.047497",
     "status": "completed"
    },
    "tags": []
   },
   "outputs": [],
   "source": [
    "# Asegurarse de que el directorio existe\n",
    "dir_path = 'data'\n",
    "if not os.path.exists(dir_path):\n",
    "    os.makedirs(dir_path)\n",
    "\n",
    "# Ruta completa del archivo\n",
    "path = os.path.join(dir_path, 'dataxd.txt')\n",
    "\n",
    "# Eliminar archivo si existe\n",
    "if os.path.exists(path):\n",
    "    os.remove(path)\n",
    "else:\n",
    "    print(\"File does not exist. File needs to be created.\")\n",
    "\n",
    "# Guardar el DataFrame en el archivo (no hace falta abrir manualmente con 'open')\n",
    "df_new1.to_csv(path, header=True, index=None, sep='\\t', mode='w')\n"
   ]
  },
  {
   "cell_type": "code",
   "execution_count": 8,
   "id": "a5852d8c-5528-4782-aa7a-37759d9d1178",
   "metadata": {
    "execution": {
     "iopub.execute_input": "2025-06-27T09:15:08.242025Z",
     "iopub.status.busy": "2025-06-27T09:15:08.241489Z",
     "iopub.status.idle": "2025-06-27T09:15:09.188379Z",
     "shell.execute_reply": "2025-06-27T09:15:09.187805Z"
    },
    "papermill": {
     "duration": 0.956614,
     "end_time": "2025-06-27T09:15:09.189543",
     "exception": false,
     "start_time": "2025-06-27T09:15:08.232929",
     "status": "completed"
    },
    "tags": []
   },
   "outputs": [],
   "source": [
    "path = 'data/dataxh.txt'\n",
    "folder = os.path.dirname(path)\n",
    "\n",
    "# Crear carpeta si no existe\n",
    "if not os.path.exists(folder):\n",
    "    os.makedirs(folder)\n",
    "\n",
    "# Eliminar el archivo si ya existe\n",
    "if os.path.exists(path):\n",
    "    os.remove(path)\n",
    "else:\n",
    "    print(\"File does not exist. File needs to be created.\")\n",
    "\n",
    "# Exportar DataFrame a archivo de texto\n",
    "df_new2.to_csv(path, header=True, index=None, sep='\\t', mode='w')\n"
   ]
  },
  {
   "cell_type": "code",
   "execution_count": null,
   "id": "e0e67f5f-b2dd-4edb-8f23-29838bee4ab2",
   "metadata": {
    "papermill": {
     "duration": 0.005831,
     "end_time": "2025-06-27T09:15:09.201716",
     "exception": false,
     "start_time": "2025-06-27T09:15:09.195885",
     "status": "completed"
    },
    "tags": []
   },
   "outputs": [],
   "source": []
  }
 ],
 "metadata": {
  "kernelspec": {
   "display_name": "Python [conda env:base] *",
   "language": "python",
   "name": "conda-base-py"
  },
  "language_info": {
   "codemirror_mode": {
    "name": "ipython",
    "version": 3
   },
   "file_extension": ".py",
   "mimetype": "text/x-python",
   "name": "python",
   "nbconvert_exporter": "python",
   "pygments_lexer": "ipython3",
   "version": "3.10.18"
  },
  "papermill": {
   "default_parameters": {},
   "duration": 18.617747,
   "end_time": "2025-06-27T09:15:09.422355",
   "environment_variables": {},
   "exception": null,
   "input_path": "downloadDataHistYF.ipynb",
   "output_path": "downloadDataHistYF.ipynb_out.ipynb",
   "parameters": {},
   "start_time": "2025-06-27T09:14:50.804608",
   "version": "2.6.0"
  }
 },
 "nbformat": 4,
 "nbformat_minor": 5
}