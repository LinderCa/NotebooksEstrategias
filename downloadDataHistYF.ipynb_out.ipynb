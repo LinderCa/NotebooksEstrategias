{
 "cells": [
  {
   "cell_type": "markdown",
   "id": "04e6744f-9615-43cf-9b5c-084423927d07",
   "metadata": {
    "papermill": {
     "duration": 0.001974,
     "end_time": "2025-07-03T13:27:46.949542",
     "exception": false,
     "start_time": "2025-07-03T13:27:46.947568",
     "status": "completed"
    },
    "tags": []
   },
   "source": [
    "### Descarga de datos usando YFINANCE\n",
    "##### Ejecutar 1 vez al dia"
   ]
  },
  {
   "cell_type": "code",
   "execution_count": 1,
   "id": "9d3c2873-f166-4057-8897-e43b6d39390c",
   "metadata": {
    "execution": {
     "iopub.execute_input": "2025-07-03T13:27:46.953804Z",
     "iopub.status.busy": "2025-07-03T13:27:46.953211Z",
     "iopub.status.idle": "2025-07-03T13:27:47.322702Z",
     "shell.execute_reply": "2025-07-03T13:27:47.322088Z"
    },
    "papermill": {
     "duration": 0.372834,
     "end_time": "2025-07-03T13:27:47.323882",
     "exception": false,
     "start_time": "2025-07-03T13:27:46.951048",
     "status": "completed"
    },
    "tags": []
   },
   "outputs": [],
   "source": [
    "import pandas as pd\n",
    "import yfinance as yf\n",
    "import os\n",
    "from datetime import date, timedelta"
   ]
  },
  {
   "cell_type": "code",
   "execution_count": 2,
   "id": "ca1000a8",
   "metadata": {
    "execution": {
     "iopub.execute_input": "2025-07-03T13:27:47.328066Z",
     "iopub.status.busy": "2025-07-03T13:27:47.327620Z",
     "iopub.status.idle": "2025-07-03T13:27:47.352426Z",
     "shell.execute_reply": "2025-07-03T13:27:47.351913Z"
    },
    "papermill": {
     "duration": 0.027792,
     "end_time": "2025-07-03T13:27:47.353380",
     "exception": false,
     "start_time": "2025-07-03T13:27:47.325588",
     "status": "completed"
    },
    "tags": []
   },
   "outputs": [
    {
     "name": "stdout",
     "output_type": "stream",
     "text": [
      "Archivo cargado correctamente.\n"
     ]
    }
   ],
   "source": [
    "#LEER POR DIA\n",
    "ruta_archivo='data/dataxd.txt'\n",
    "if os.path.exists(ruta_archivo):\n",
    "    # Cargar el archivo\n",
    "    df1 = pd.read_csv(ruta_archivo, sep='\\t')\n",
    "    print(\"Archivo cargado correctamente.\")\n",
    "else:\n",
    "    # Crear un DataFrame vacío\n",
    "    df1 = pd.DataFrame()\n",
    "    print(\"Archivo no existe. Se creó un DataFrame vacío.\")"
   ]
  },
  {
   "cell_type": "code",
   "execution_count": 3,
   "id": "fdd7442c-1fa8-45c1-a8c6-37fd52f04ea7",
   "metadata": {
    "execution": {
     "iopub.execute_input": "2025-07-03T13:27:47.357296Z",
     "iopub.status.busy": "2025-07-03T13:27:47.356908Z",
     "iopub.status.idle": "2025-07-03T13:27:47.442221Z",
     "shell.execute_reply": "2025-07-03T13:27:47.441638Z"
    },
    "papermill": {
     "duration": 0.088138,
     "end_time": "2025-07-03T13:27:47.443097",
     "exception": false,
     "start_time": "2025-07-03T13:27:47.354959",
     "status": "completed"
    },
    "tags": []
   },
   "outputs": [
    {
     "name": "stdout",
     "output_type": "stream",
     "text": [
      "Archivo cargado correctamente.\n"
     ]
    }
   ],
   "source": [
    "#ruta_archivo = r\"D:\\traderxpro\\data\\dataxh.txt\"\n",
    "ruta_archivo='data/dataxh.txt'\n",
    "if os.path.exists(ruta_archivo):\n",
    "    # Cargar el archivo\n",
    "    df2 = pd.read_csv(ruta_archivo, sep='\\t')\n",
    "    print(\"Archivo cargado correctamente.\")\n",
    "else:\n",
    "    # Crear un DataFrame vacío\n",
    "    df2 = pd.DataFrame()\n",
    "    print(\"Archivo no existe. Se creó un DataFrame vacío.\")"
   ]
  },
  {
   "cell_type": "code",
   "execution_count": 4,
   "id": "32ccd514-843c-40cc-95a4-8d1d504fdfda",
   "metadata": {
    "execution": {
     "iopub.execute_input": "2025-07-03T13:27:47.447353Z",
     "iopub.status.busy": "2025-07-03T13:27:47.447161Z",
     "iopub.status.idle": "2025-07-03T13:27:47.451545Z",
     "shell.execute_reply": "2025-07-03T13:27:47.451040Z"
    },
    "papermill": {
     "duration": 0.007494,
     "end_time": "2025-07-03T13:27:47.452442",
     "exception": false,
     "start_time": "2025-07-03T13:27:47.444948",
     "status": "completed"
    },
    "tags": []
   },
   "outputs": [],
   "source": [
    "ini1=date.today() - timedelta(days=1095) #3 years ago\n",
    "ini2 = date.today() - timedelta(days=728) # 2 years ago\n",
    "ayer = date.today() - timedelta(days=1) # 2 years ago\n",
    "today = date.today()\n",
    "today_str = str(today)\n",
    "ini1_str=str(ini1)\n",
    "ini2_str = str(ini2)\n",
    "tickers = [\n",
    "    'SPY',\n",
    "    'META',\n",
    "    'AAPL',\n",
    "    'AMZN',\n",
    "    'NFLX',\n",
    "    'MRNA',\n",
    "    'TSLA',\n",
    "    'TNA',\n",
    "    'GLD',\n",
    "    'SLV',\n",
    "    'USO',\n",
    "    'BAC',\n",
    "    'CVX',\n",
    "    'XOM',\n",
    "    'QQQ',\n",
    "    'MSFT',\n",
    "    'NVDA',\n",
    "    'WMT',\n",
    "    'BA',\n",
    "    'DIS',\n",
    "    'CAT',\n",
    "    'IBM',\n",
    "    'WFC',\n",
    "    'PLTR',\n",
    "    'AMD',\n",
    "    'AVGO',\n",
    "    'HOOD',\n",
    "    'CRWV',\n",
    "    'MSTR',\n",
    "    'UNH',\n",
    "    'GOOG',\n",
    "    'APP',\n",
    "    'UBER'\n",
    "]"
   ]
  },
  {
   "cell_type": "code",
   "execution_count": 5,
   "id": "e56ff2c3-d879-427c-9f32-530a15fdcc5d",
   "metadata": {
    "execution": {
     "iopub.execute_input": "2025-07-03T13:27:47.456042Z",
     "iopub.status.busy": "2025-07-03T13:27:47.455879Z",
     "iopub.status.idle": "2025-07-03T13:27:54.970115Z",
     "shell.execute_reply": "2025-07-03T13:27:54.969534Z"
    },
    "papermill": {
     "duration": 7.517131,
     "end_time": "2025-07-03T13:27:54.971079",
     "exception": false,
     "start_time": "2025-07-03T13:27:47.453948",
     "status": "completed"
    },
    "tags": []
   },
   "outputs": [
    {
     "name": "stdout",
     "output_type": "stream",
     "text": [
      "h1\n"
     ]
    },
    {
     "name": "stderr",
     "output_type": "stream",
     "text": [
      "/tmp/ipykernel_2265/892114901.py:10: FutureWarning: YF.download() has changed argument auto_adjust default to True\n",
      "  company = yf.download(ticker, start = ini1_str, end = today_str, interval='1d')\n"
     ]
    },
    {
     "name": "stderr",
     "output_type": "stream",
     "text": [
      "\r",
      "[*********************100%***********************]  1 of 1 completed"
     ]
    },
    {
     "name": "stderr",
     "output_type": "stream",
     "text": [
      "\n",
      "/tmp/ipykernel_2265/892114901.py:14: FutureWarning: The behavior of DataFrame concatenation with empty or all-NA entries is deprecated. In a future version, this will no longer exclude empty or all-NA columns when determining the result dtypes. To retain the old behavior, exclude the relevant entries before the concat operation.\n",
      "  df_new1 = pd.concat([df_new1, company],ignore_index=True)\n",
      "/tmp/ipykernel_2265/892114901.py:10: FutureWarning: YF.download() has changed argument auto_adjust default to True\n",
      "  company = yf.download(ticker, start = ini1_str, end = today_str, interval='1d')\n",
      "\r",
      "[*********************100%***********************]  1 of 1 completed"
     ]
    },
    {
     "name": "stderr",
     "output_type": "stream",
     "text": [
      "\n",
      "/tmp/ipykernel_2265/892114901.py:10: FutureWarning: YF.download() has changed argument auto_adjust default to True\n",
      "  company = yf.download(ticker, start = ini1_str, end = today_str, interval='1d')\n"
     ]
    },
    {
     "name": "stderr",
     "output_type": "stream",
     "text": [
      "\r",
      "[*********************100%***********************]  1 of 1 completed"
     ]
    },
    {
     "name": "stderr",
     "output_type": "stream",
     "text": [
      "\n",
      "/tmp/ipykernel_2265/892114901.py:10: FutureWarning: YF.download() has changed argument auto_adjust default to True\n",
      "  company = yf.download(ticker, start = ini1_str, end = today_str, interval='1d')\n",
      "\r",
      "[*********************100%***********************]  1 of 1 completed"
     ]
    },
    {
     "name": "stderr",
     "output_type": "stream",
     "text": [
      "\n",
      "/tmp/ipykernel_2265/892114901.py:10: FutureWarning: YF.download() has changed argument auto_adjust default to True\n",
      "  company = yf.download(ticker, start = ini1_str, end = today_str, interval='1d')\n"
     ]
    },
    {
     "name": "stderr",
     "output_type": "stream",
     "text": [
      "\r",
      "[*********************100%***********************]  1 of 1 completed"
     ]
    },
    {
     "name": "stderr",
     "output_type": "stream",
     "text": [
      "\n",
      "/tmp/ipykernel_2265/892114901.py:10: FutureWarning: YF.download() has changed argument auto_adjust default to True\n",
      "  company = yf.download(ticker, start = ini1_str, end = today_str, interval='1d')\n"
     ]
    },
    {
     "name": "stderr",
     "output_type": "stream",
     "text": [
      "\r",
      "[*********************100%***********************]  1 of 1 completed"
     ]
    },
    {
     "name": "stderr",
     "output_type": "stream",
     "text": [
      "\n",
      "/tmp/ipykernel_2265/892114901.py:10: FutureWarning: YF.download() has changed argument auto_adjust default to True\n",
      "  company = yf.download(ticker, start = ini1_str, end = today_str, interval='1d')\n"
     ]
    },
    {
     "name": "stderr",
     "output_type": "stream",
     "text": [
      "\r",
      "[*********************100%***********************]  1 of 1 completed"
     ]
    },
    {
     "name": "stderr",
     "output_type": "stream",
     "text": [
      "\n",
      "/tmp/ipykernel_2265/892114901.py:10: FutureWarning: YF.download() has changed argument auto_adjust default to True\n",
      "  company = yf.download(ticker, start = ini1_str, end = today_str, interval='1d')\n"
     ]
    },
    {
     "name": "stderr",
     "output_type": "stream",
     "text": [
      "\r",
      "[*********************100%***********************]  1 of 1 completed"
     ]
    },
    {
     "name": "stderr",
     "output_type": "stream",
     "text": [
      "\n",
      "/tmp/ipykernel_2265/892114901.py:10: FutureWarning: YF.download() has changed argument auto_adjust default to True\n",
      "  company = yf.download(ticker, start = ini1_str, end = today_str, interval='1d')\n",
      "\r",
      "[*********************100%***********************]  1 of 1 completed"
     ]
    },
    {
     "name": "stderr",
     "output_type": "stream",
     "text": [
      "\n",
      "/tmp/ipykernel_2265/892114901.py:10: FutureWarning: YF.download() has changed argument auto_adjust default to True\n",
      "  company = yf.download(ticker, start = ini1_str, end = today_str, interval='1d')\n"
     ]
    },
    {
     "name": "stderr",
     "output_type": "stream",
     "text": [
      "\r",
      "[*********************100%***********************]  1 of 1 completed"
     ]
    },
    {
     "name": "stderr",
     "output_type": "stream",
     "text": [
      "\n",
      "/tmp/ipykernel_2265/892114901.py:10: FutureWarning: YF.download() has changed argument auto_adjust default to True\n",
      "  company = yf.download(ticker, start = ini1_str, end = today_str, interval='1d')\n"
     ]
    },
    {
     "name": "stderr",
     "output_type": "stream",
     "text": [
      "\r",
      "[*********************100%***********************]  1 of 1 completed"
     ]
    },
    {
     "name": "stderr",
     "output_type": "stream",
     "text": [
      "\n",
      "/tmp/ipykernel_2265/892114901.py:10: FutureWarning: YF.download() has changed argument auto_adjust default to True\n",
      "  company = yf.download(ticker, start = ini1_str, end = today_str, interval='1d')\n"
     ]
    },
    {
     "name": "stderr",
     "output_type": "stream",
     "text": [
      "\r",
      "[*********************100%***********************]  1 of 1 completed"
     ]
    },
    {
     "name": "stderr",
     "output_type": "stream",
     "text": [
      "\n",
      "/tmp/ipykernel_2265/892114901.py:10: FutureWarning: YF.download() has changed argument auto_adjust default to True\n",
      "  company = yf.download(ticker, start = ini1_str, end = today_str, interval='1d')\n"
     ]
    },
    {
     "name": "stderr",
     "output_type": "stream",
     "text": [
      "\r",
      "[*********************100%***********************]  1 of 1 completed"
     ]
    },
    {
     "name": "stderr",
     "output_type": "stream",
     "text": [
      "\n",
      "/tmp/ipykernel_2265/892114901.py:10: FutureWarning: YF.download() has changed argument auto_adjust default to True\n",
      "  company = yf.download(ticker, start = ini1_str, end = today_str, interval='1d')\n"
     ]
    },
    {
     "name": "stderr",
     "output_type": "stream",
     "text": [
      "\r",
      "[*********************100%***********************]  1 of 1 completed"
     ]
    },
    {
     "name": "stderr",
     "output_type": "stream",
     "text": [
      "\n",
      "/tmp/ipykernel_2265/892114901.py:10: FutureWarning: YF.download() has changed argument auto_adjust default to True\n",
      "  company = yf.download(ticker, start = ini1_str, end = today_str, interval='1d')\n",
      "\r",
      "[*********************100%***********************]  1 of 1 completed"
     ]
    },
    {
     "name": "stderr",
     "output_type": "stream",
     "text": [
      "\n",
      "/tmp/ipykernel_2265/892114901.py:10: FutureWarning: YF.download() has changed argument auto_adjust default to True\n",
      "  company = yf.download(ticker, start = ini1_str, end = today_str, interval='1d')\n"
     ]
    },
    {
     "name": "stderr",
     "output_type": "stream",
     "text": [
      "\r",
      "[*********************100%***********************]  1 of 1 completed"
     ]
    },
    {
     "name": "stderr",
     "output_type": "stream",
     "text": [
      "\n",
      "/tmp/ipykernel_2265/892114901.py:10: FutureWarning: YF.download() has changed argument auto_adjust default to True\n",
      "  company = yf.download(ticker, start = ini1_str, end = today_str, interval='1d')\n"
     ]
    },
    {
     "name": "stderr",
     "output_type": "stream",
     "text": [
      "\r",
      "[*********************100%***********************]  1 of 1 completed"
     ]
    },
    {
     "name": "stderr",
     "output_type": "stream",
     "text": [
      "\n",
      "/tmp/ipykernel_2265/892114901.py:10: FutureWarning: YF.download() has changed argument auto_adjust default to True\n",
      "  company = yf.download(ticker, start = ini1_str, end = today_str, interval='1d')\n"
     ]
    },
    {
     "name": "stderr",
     "output_type": "stream",
     "text": [
      "\r",
      "[*********************100%***********************]  1 of 1 completed"
     ]
    },
    {
     "name": "stderr",
     "output_type": "stream",
     "text": [
      "\n",
      "/tmp/ipykernel_2265/892114901.py:10: FutureWarning: YF.download() has changed argument auto_adjust default to True\n",
      "  company = yf.download(ticker, start = ini1_str, end = today_str, interval='1d')\n"
     ]
    },
    {
     "name": "stderr",
     "output_type": "stream",
     "text": [
      "\r",
      "[*********************100%***********************]  1 of 1 completed"
     ]
    },
    {
     "name": "stderr",
     "output_type": "stream",
     "text": [
      "\n",
      "/tmp/ipykernel_2265/892114901.py:10: FutureWarning: YF.download() has changed argument auto_adjust default to True\n",
      "  company = yf.download(ticker, start = ini1_str, end = today_str, interval='1d')\n"
     ]
    },
    {
     "name": "stderr",
     "output_type": "stream",
     "text": [
      "\r",
      "[*********************100%***********************]  1 of 1 completed"
     ]
    },
    {
     "name": "stderr",
     "output_type": "stream",
     "text": [
      "\n",
      "/tmp/ipykernel_2265/892114901.py:10: FutureWarning: YF.download() has changed argument auto_adjust default to True\n",
      "  company = yf.download(ticker, start = ini1_str, end = today_str, interval='1d')\n"
     ]
    },
    {
     "name": "stderr",
     "output_type": "stream",
     "text": [
      "\r",
      "[*********************100%***********************]  1 of 1 completed"
     ]
    },
    {
     "name": "stderr",
     "output_type": "stream",
     "text": [
      "\n",
      "/tmp/ipykernel_2265/892114901.py:10: FutureWarning: YF.download() has changed argument auto_adjust default to True\n",
      "  company = yf.download(ticker, start = ini1_str, end = today_str, interval='1d')\n"
     ]
    },
    {
     "name": "stderr",
     "output_type": "stream",
     "text": [
      "\r",
      "[*********************100%***********************]  1 of 1 completed"
     ]
    },
    {
     "name": "stderr",
     "output_type": "stream",
     "text": [
      "\n",
      "/tmp/ipykernel_2265/892114901.py:10: FutureWarning: YF.download() has changed argument auto_adjust default to True\n",
      "  company = yf.download(ticker, start = ini1_str, end = today_str, interval='1d')\n"
     ]
    },
    {
     "name": "stderr",
     "output_type": "stream",
     "text": [
      "\r",
      "[*********************100%***********************]  1 of 1 completed"
     ]
    },
    {
     "name": "stderr",
     "output_type": "stream",
     "text": [
      "\n",
      "/tmp/ipykernel_2265/892114901.py:10: FutureWarning: YF.download() has changed argument auto_adjust default to True\n",
      "  company = yf.download(ticker, start = ini1_str, end = today_str, interval='1d')\n",
      "\r",
      "[*********************100%***********************]  1 of 1 completed"
     ]
    },
    {
     "name": "stderr",
     "output_type": "stream",
     "text": [
      "\n",
      "/tmp/ipykernel_2265/892114901.py:10: FutureWarning: YF.download() has changed argument auto_adjust default to True\n",
      "  company = yf.download(ticker, start = ini1_str, end = today_str, interval='1d')\n"
     ]
    },
    {
     "name": "stderr",
     "output_type": "stream",
     "text": [
      "\r",
      "[*********************100%***********************]  1 of 1 completed"
     ]
    },
    {
     "name": "stderr",
     "output_type": "stream",
     "text": [
      "\n",
      "/tmp/ipykernel_2265/892114901.py:10: FutureWarning: YF.download() has changed argument auto_adjust default to True\n",
      "  company = yf.download(ticker, start = ini1_str, end = today_str, interval='1d')\n"
     ]
    },
    {
     "name": "stderr",
     "output_type": "stream",
     "text": [
      "\r",
      "[*********************100%***********************]  1 of 1 completed"
     ]
    },
    {
     "name": "stderr",
     "output_type": "stream",
     "text": [
      "\n",
      "/tmp/ipykernel_2265/892114901.py:10: FutureWarning: YF.download() has changed argument auto_adjust default to True\n",
      "  company = yf.download(ticker, start = ini1_str, end = today_str, interval='1d')\n",
      "\r",
      "[*********************100%***********************]  1 of 1 completed"
     ]
    },
    {
     "name": "stderr",
     "output_type": "stream",
     "text": [
      "\n",
      "/tmp/ipykernel_2265/892114901.py:10: FutureWarning: YF.download() has changed argument auto_adjust default to True\n",
      "  company = yf.download(ticker, start = ini1_str, end = today_str, interval='1d')\n"
     ]
    },
    {
     "name": "stderr",
     "output_type": "stream",
     "text": [
      "\r",
      "[*********************100%***********************]  1 of 1 completed"
     ]
    },
    {
     "name": "stderr",
     "output_type": "stream",
     "text": [
      "\n",
      "/tmp/ipykernel_2265/892114901.py:10: FutureWarning: YF.download() has changed argument auto_adjust default to True\n",
      "  company = yf.download(ticker, start = ini1_str, end = today_str, interval='1d')\n"
     ]
    },
    {
     "name": "stderr",
     "output_type": "stream",
     "text": [
      "\r",
      "[*********************100%***********************]  1 of 1 completed"
     ]
    },
    {
     "name": "stderr",
     "output_type": "stream",
     "text": [
      "\n",
      "/tmp/ipykernel_2265/892114901.py:10: FutureWarning: YF.download() has changed argument auto_adjust default to True\n",
      "  company = yf.download(ticker, start = ini1_str, end = today_str, interval='1d')\n"
     ]
    },
    {
     "name": "stderr",
     "output_type": "stream",
     "text": [
      "\r",
      "[*********************100%***********************]  1 of 1 completed"
     ]
    },
    {
     "name": "stderr",
     "output_type": "stream",
     "text": [
      "\n",
      "/tmp/ipykernel_2265/892114901.py:10: FutureWarning: YF.download() has changed argument auto_adjust default to True\n",
      "  company = yf.download(ticker, start = ini1_str, end = today_str, interval='1d')\n"
     ]
    },
    {
     "name": "stderr",
     "output_type": "stream",
     "text": [
      "\r",
      "[*********************100%***********************]  1 of 1 completed"
     ]
    },
    {
     "name": "stderr",
     "output_type": "stream",
     "text": [
      "\n",
      "/tmp/ipykernel_2265/892114901.py:10: FutureWarning: YF.download() has changed argument auto_adjust default to True\n",
      "  company = yf.download(ticker, start = ini1_str, end = today_str, interval='1d')\n"
     ]
    },
    {
     "name": "stderr",
     "output_type": "stream",
     "text": [
      "\r",
      "[*********************100%***********************]  1 of 1 completed"
     ]
    },
    {
     "name": "stderr",
     "output_type": "stream",
     "text": [
      "\n",
      "/tmp/ipykernel_2265/892114901.py:10: FutureWarning: YF.download() has changed argument auto_adjust default to True\n",
      "  company = yf.download(ticker, start = ini1_str, end = today_str, interval='1d')\n",
      "\r",
      "[*********************100%***********************]  1 of 1 completed"
     ]
    },
    {
     "name": "stderr",
     "output_type": "stream",
     "text": [
      "\n"
     ]
    }
   ],
   "source": [
    "if df1.shape[0]>0:\n",
    "    df_new1 = df1[(df1['datetime'] < ini1_str) & (df1['datetime'] >=  today_str)]\n",
    "    df_new1 = df_new1.reset_index(drop=True)\n",
    "    print(\"h1\")\n",
    "else:\n",
    "    df_new1 = pd.DataFrame()\n",
    "    print(\"h2\")\n",
    "#print(df_new2)\n",
    "for ticker in tickers:\n",
    "    company = yf.download(ticker, start = ini1_str, end = today_str, interval='1d')\n",
    "    company.columns = [company.columns[0][0], company.columns[1][0], company.columns[2][0], company.columns[3][0], company.columns[4][0]]\n",
    "    company['datetime'] = pd.to_datetime (company.index)\n",
    "    company['companyName'] = ticker\n",
    "    df_new1 = pd.concat([df_new1, company],ignore_index=True)"
   ]
  },
  {
   "cell_type": "code",
   "execution_count": 6,
   "id": "f87e2b0b",
   "metadata": {
    "execution": {
     "iopub.execute_input": "2025-07-03T13:27:54.979896Z",
     "iopub.status.busy": "2025-07-03T13:27:54.979459Z",
     "iopub.status.idle": "2025-07-03T13:28:04.419725Z",
     "shell.execute_reply": "2025-07-03T13:28:04.419197Z"
    },
    "papermill": {
     "duration": 9.445369,
     "end_time": "2025-07-03T13:28:04.420580",
     "exception": false,
     "start_time": "2025-07-03T13:27:54.975211",
     "status": "completed"
    },
    "tags": []
   },
   "outputs": [
    {
     "name": "stderr",
     "output_type": "stream",
     "text": [
      "/tmp/ipykernel_2265/2319155395.py:10: FutureWarning: YF.download() has changed argument auto_adjust default to True\n",
      "  company = yf.download(ticker, start = ini2_str, end = today_str, interval='60m')\n"
     ]
    },
    {
     "name": "stdout",
     "output_type": "stream",
     "text": [
      "h1\n"
     ]
    },
    {
     "name": "stderr",
     "output_type": "stream",
     "text": [
      "\r",
      "[*********************100%***********************]  1 of 1 completed"
     ]
    },
    {
     "name": "stderr",
     "output_type": "stream",
     "text": [
      "\n",
      "/tmp/ipykernel_2265/2319155395.py:15: FutureWarning: The behavior of DataFrame concatenation with empty or all-NA entries is deprecated. In a future version, this will no longer exclude empty or all-NA columns when determining the result dtypes. To retain the old behavior, exclude the relevant entries before the concat operation.\n",
      "  df_new2 = pd.concat([df_new2, company],ignore_index=True)\n",
      "/tmp/ipykernel_2265/2319155395.py:10: FutureWarning: YF.download() has changed argument auto_adjust default to True\n",
      "  company = yf.download(ticker, start = ini2_str, end = today_str, interval='60m')\n"
     ]
    },
    {
     "name": "stderr",
     "output_type": "stream",
     "text": [
      "\r",
      "[*********************100%***********************]  1 of 1 completed"
     ]
    },
    {
     "name": "stderr",
     "output_type": "stream",
     "text": [
      "\n",
      "/tmp/ipykernel_2265/2319155395.py:10: FutureWarning: YF.download() has changed argument auto_adjust default to True\n",
      "  company = yf.download(ticker, start = ini2_str, end = today_str, interval='60m')\n",
      "\r",
      "[*********************100%***********************]  1 of 1 completed"
     ]
    },
    {
     "name": "stderr",
     "output_type": "stream",
     "text": [
      "\n",
      "/tmp/ipykernel_2265/2319155395.py:10: FutureWarning: YF.download() has changed argument auto_adjust default to True\n",
      "  company = yf.download(ticker, start = ini2_str, end = today_str, interval='60m')\n"
     ]
    },
    {
     "name": "stderr",
     "output_type": "stream",
     "text": [
      "\r",
      "[*********************100%***********************]  1 of 1 completed"
     ]
    },
    {
     "name": "stderr",
     "output_type": "stream",
     "text": [
      "\n",
      "/tmp/ipykernel_2265/2319155395.py:10: FutureWarning: YF.download() has changed argument auto_adjust default to True\n",
      "  company = yf.download(ticker, start = ini2_str, end = today_str, interval='60m')\n",
      "\r",
      "[*********************100%***********************]  1 of 1 completed"
     ]
    },
    {
     "name": "stderr",
     "output_type": "stream",
     "text": [
      "\n",
      "/tmp/ipykernel_2265/2319155395.py:10: FutureWarning: YF.download() has changed argument auto_adjust default to True\n",
      "  company = yf.download(ticker, start = ini2_str, end = today_str, interval='60m')\n"
     ]
    },
    {
     "name": "stderr",
     "output_type": "stream",
     "text": [
      "\r",
      "[*********************100%***********************]  1 of 1 completed"
     ]
    },
    {
     "name": "stderr",
     "output_type": "stream",
     "text": [
      "\n",
      "/tmp/ipykernel_2265/2319155395.py:10: FutureWarning: YF.download() has changed argument auto_adjust default to True\n",
      "  company = yf.download(ticker, start = ini2_str, end = today_str, interval='60m')\n"
     ]
    },
    {
     "name": "stderr",
     "output_type": "stream",
     "text": [
      "\r",
      "[*********************100%***********************]  1 of 1 completed"
     ]
    },
    {
     "name": "stderr",
     "output_type": "stream",
     "text": [
      "\n",
      "/tmp/ipykernel_2265/2319155395.py:10: FutureWarning: YF.download() has changed argument auto_adjust default to True\n",
      "  company = yf.download(ticker, start = ini2_str, end = today_str, interval='60m')\n"
     ]
    },
    {
     "name": "stderr",
     "output_type": "stream",
     "text": [
      "\r",
      "[*********************100%***********************]  1 of 1 completed"
     ]
    },
    {
     "name": "stderr",
     "output_type": "stream",
     "text": [
      "\n",
      "/tmp/ipykernel_2265/2319155395.py:10: FutureWarning: YF.download() has changed argument auto_adjust default to True\n",
      "  company = yf.download(ticker, start = ini2_str, end = today_str, interval='60m')\n",
      "\r",
      "[*********************100%***********************]  1 of 1 completed"
     ]
    },
    {
     "name": "stderr",
     "output_type": "stream",
     "text": [
      "\n",
      "/tmp/ipykernel_2265/2319155395.py:10: FutureWarning: YF.download() has changed argument auto_adjust default to True\n",
      "  company = yf.download(ticker, start = ini2_str, end = today_str, interval='60m')\n"
     ]
    },
    {
     "name": "stderr",
     "output_type": "stream",
     "text": [
      "\r",
      "[*********************100%***********************]  1 of 1 completed"
     ]
    },
    {
     "name": "stderr",
     "output_type": "stream",
     "text": [
      "\n",
      "/tmp/ipykernel_2265/2319155395.py:10: FutureWarning: YF.download() has changed argument auto_adjust default to True\n",
      "  company = yf.download(ticker, start = ini2_str, end = today_str, interval='60m')\n"
     ]
    },
    {
     "name": "stderr",
     "output_type": "stream",
     "text": [
      "\r",
      "[*********************100%***********************]  1 of 1 completed"
     ]
    },
    {
     "name": "stderr",
     "output_type": "stream",
     "text": [
      "\n",
      "/tmp/ipykernel_2265/2319155395.py:10: FutureWarning: YF.download() has changed argument auto_adjust default to True\n",
      "  company = yf.download(ticker, start = ini2_str, end = today_str, interval='60m')\n",
      "\r",
      "[*********************100%***********************]  1 of 1 completed"
     ]
    },
    {
     "name": "stderr",
     "output_type": "stream",
     "text": [
      "\n",
      "/tmp/ipykernel_2265/2319155395.py:10: FutureWarning: YF.download() has changed argument auto_adjust default to True\n",
      "  company = yf.download(ticker, start = ini2_str, end = today_str, interval='60m')\n"
     ]
    },
    {
     "name": "stderr",
     "output_type": "stream",
     "text": [
      "\r",
      "[*********************100%***********************]  1 of 1 completed"
     ]
    },
    {
     "name": "stderr",
     "output_type": "stream",
     "text": [
      "\n",
      "/tmp/ipykernel_2265/2319155395.py:10: FutureWarning: YF.download() has changed argument auto_adjust default to True\n",
      "  company = yf.download(ticker, start = ini2_str, end = today_str, interval='60m')\n",
      "\r",
      "[*********************100%***********************]  1 of 1 completed"
     ]
    },
    {
     "name": "stderr",
     "output_type": "stream",
     "text": [
      "\n",
      "/tmp/ipykernel_2265/2319155395.py:10: FutureWarning: YF.download() has changed argument auto_adjust default to True\n",
      "  company = yf.download(ticker, start = ini2_str, end = today_str, interval='60m')\n"
     ]
    },
    {
     "name": "stderr",
     "output_type": "stream",
     "text": [
      "\r",
      "[*********************100%***********************]  1 of 1 completed"
     ]
    },
    {
     "name": "stderr",
     "output_type": "stream",
     "text": [
      "\n",
      "/tmp/ipykernel_2265/2319155395.py:10: FutureWarning: YF.download() has changed argument auto_adjust default to True\n",
      "  company = yf.download(ticker, start = ini2_str, end = today_str, interval='60m')\n"
     ]
    },
    {
     "name": "stderr",
     "output_type": "stream",
     "text": [
      "\r",
      "[*********************100%***********************]  1 of 1 completed"
     ]
    },
    {
     "name": "stderr",
     "output_type": "stream",
     "text": [
      "\n",
      "/tmp/ipykernel_2265/2319155395.py:10: FutureWarning: YF.download() has changed argument auto_adjust default to True\n",
      "  company = yf.download(ticker, start = ini2_str, end = today_str, interval='60m')\n"
     ]
    },
    {
     "name": "stderr",
     "output_type": "stream",
     "text": [
      "\r",
      "[*********************100%***********************]  1 of 1 completed"
     ]
    },
    {
     "name": "stderr",
     "output_type": "stream",
     "text": [
      "\n",
      "/tmp/ipykernel_2265/2319155395.py:10: FutureWarning: YF.download() has changed argument auto_adjust default to True\n",
      "  company = yf.download(ticker, start = ini2_str, end = today_str, interval='60m')\n"
     ]
    },
    {
     "name": "stderr",
     "output_type": "stream",
     "text": [
      "\r",
      "[*********************100%***********************]  1 of 1 completed"
     ]
    },
    {
     "name": "stderr",
     "output_type": "stream",
     "text": [
      "\n",
      "/tmp/ipykernel_2265/2319155395.py:10: FutureWarning: YF.download() has changed argument auto_adjust default to True\n",
      "  company = yf.download(ticker, start = ini2_str, end = today_str, interval='60m')\n"
     ]
    },
    {
     "name": "stderr",
     "output_type": "stream",
     "text": [
      "\r",
      "[*********************100%***********************]  1 of 1 completed"
     ]
    },
    {
     "name": "stderr",
     "output_type": "stream",
     "text": [
      "\n",
      "/tmp/ipykernel_2265/2319155395.py:10: FutureWarning: YF.download() has changed argument auto_adjust default to True\n",
      "  company = yf.download(ticker, start = ini2_str, end = today_str, interval='60m')\n"
     ]
    },
    {
     "name": "stderr",
     "output_type": "stream",
     "text": [
      "\r",
      "[*********************100%***********************]  1 of 1 completed"
     ]
    },
    {
     "name": "stderr",
     "output_type": "stream",
     "text": [
      "\n",
      "/tmp/ipykernel_2265/2319155395.py:10: FutureWarning: YF.download() has changed argument auto_adjust default to True\n",
      "  company = yf.download(ticker, start = ini2_str, end = today_str, interval='60m')\n",
      "\r",
      "[*********************100%***********************]  1 of 1 completed"
     ]
    },
    {
     "name": "stderr",
     "output_type": "stream",
     "text": [
      "\n",
      "/tmp/ipykernel_2265/2319155395.py:10: FutureWarning: YF.download() has changed argument auto_adjust default to True\n",
      "  company = yf.download(ticker, start = ini2_str, end = today_str, interval='60m')\n"
     ]
    },
    {
     "name": "stderr",
     "output_type": "stream",
     "text": [
      "\r",
      "[*********************100%***********************]  1 of 1 completed"
     ]
    },
    {
     "name": "stderr",
     "output_type": "stream",
     "text": [
      "\n",
      "/tmp/ipykernel_2265/2319155395.py:10: FutureWarning: YF.download() has changed argument auto_adjust default to True\n",
      "  company = yf.download(ticker, start = ini2_str, end = today_str, interval='60m')\n"
     ]
    },
    {
     "name": "stderr",
     "output_type": "stream",
     "text": [
      "\r",
      "[*********************100%***********************]  1 of 1 completed"
     ]
    },
    {
     "name": "stderr",
     "output_type": "stream",
     "text": [
      "\n"
     ]
    },
    {
     "name": "stderr",
     "output_type": "stream",
     "text": [
      "/tmp/ipykernel_2265/2319155395.py:10: FutureWarning: YF.download() has changed argument auto_adjust default to True\n",
      "  company = yf.download(ticker, start = ini2_str, end = today_str, interval='60m')\n",
      "\r",
      "[*********************100%***********************]  1 of 1 completed"
     ]
    },
    {
     "name": "stderr",
     "output_type": "stream",
     "text": [
      "\n"
     ]
    },
    {
     "name": "stderr",
     "output_type": "stream",
     "text": [
      "/tmp/ipykernel_2265/2319155395.py:10: FutureWarning: YF.download() has changed argument auto_adjust default to True\n",
      "  company = yf.download(ticker, start = ini2_str, end = today_str, interval='60m')\n"
     ]
    },
    {
     "name": "stderr",
     "output_type": "stream",
     "text": [
      "\r",
      "[*********************100%***********************]  1 of 1 completed"
     ]
    },
    {
     "name": "stderr",
     "output_type": "stream",
     "text": [
      "\n"
     ]
    },
    {
     "name": "stderr",
     "output_type": "stream",
     "text": [
      "/tmp/ipykernel_2265/2319155395.py:10: FutureWarning: YF.download() has changed argument auto_adjust default to True\n",
      "  company = yf.download(ticker, start = ini2_str, end = today_str, interval='60m')\n"
     ]
    },
    {
     "name": "stderr",
     "output_type": "stream",
     "text": [
      "\r",
      "[*********************100%***********************]  1 of 1 completed"
     ]
    },
    {
     "name": "stderr",
     "output_type": "stream",
     "text": [
      "\n",
      "/tmp/ipykernel_2265/2319155395.py:10: FutureWarning: YF.download() has changed argument auto_adjust default to True\n",
      "  company = yf.download(ticker, start = ini2_str, end = today_str, interval='60m')\n",
      "\r",
      "[*********************100%***********************]  1 of 1 completed"
     ]
    },
    {
     "name": "stderr",
     "output_type": "stream",
     "text": [
      "\n",
      "/tmp/ipykernel_2265/2319155395.py:10: FutureWarning: YF.download() has changed argument auto_adjust default to True\n",
      "  company = yf.download(ticker, start = ini2_str, end = today_str, interval='60m')\n"
     ]
    },
    {
     "name": "stderr",
     "output_type": "stream",
     "text": [
      "\r",
      "[*********************100%***********************]  1 of 1 completed"
     ]
    },
    {
     "name": "stderr",
     "output_type": "stream",
     "text": [
      "\n",
      "/tmp/ipykernel_2265/2319155395.py:10: FutureWarning: YF.download() has changed argument auto_adjust default to True\n",
      "  company = yf.download(ticker, start = ini2_str, end = today_str, interval='60m')\n"
     ]
    },
    {
     "name": "stderr",
     "output_type": "stream",
     "text": [
      "\r",
      "[*********************100%***********************]  1 of 1 completed"
     ]
    },
    {
     "name": "stderr",
     "output_type": "stream",
     "text": [
      "\n",
      "/tmp/ipykernel_2265/2319155395.py:10: FutureWarning: YF.download() has changed argument auto_adjust default to True\n",
      "  company = yf.download(ticker, start = ini2_str, end = today_str, interval='60m')\n"
     ]
    },
    {
     "name": "stderr",
     "output_type": "stream",
     "text": [
      "\r",
      "[*********************100%***********************]  1 of 1 completed"
     ]
    },
    {
     "name": "stderr",
     "output_type": "stream",
     "text": [
      "\n",
      "/tmp/ipykernel_2265/2319155395.py:10: FutureWarning: YF.download() has changed argument auto_adjust default to True\n",
      "  company = yf.download(ticker, start = ini2_str, end = today_str, interval='60m')\n"
     ]
    },
    {
     "name": "stderr",
     "output_type": "stream",
     "text": [
      "\r",
      "[*********************100%***********************]  1 of 1 completed"
     ]
    },
    {
     "name": "stderr",
     "output_type": "stream",
     "text": [
      "\n",
      "/tmp/ipykernel_2265/2319155395.py:10: FutureWarning: YF.download() has changed argument auto_adjust default to True\n",
      "  company = yf.download(ticker, start = ini2_str, end = today_str, interval='60m')\n",
      "\r",
      "[*********************100%***********************]  1 of 1 completed"
     ]
    },
    {
     "name": "stderr",
     "output_type": "stream",
     "text": [
      "\n"
     ]
    },
    {
     "name": "stderr",
     "output_type": "stream",
     "text": [
      "/tmp/ipykernel_2265/2319155395.py:10: FutureWarning: YF.download() has changed argument auto_adjust default to True\n",
      "  company = yf.download(ticker, start = ini2_str, end = today_str, interval='60m')\n"
     ]
    },
    {
     "name": "stderr",
     "output_type": "stream",
     "text": [
      "\r",
      "[*********************100%***********************]  1 of 1 completed"
     ]
    },
    {
     "name": "stderr",
     "output_type": "stream",
     "text": [
      "\n"
     ]
    }
   ],
   "source": [
    "if df2.shape[0]>0:\n",
    "    df_new2 = df2[(df2['datetime'] < ini2_str) & (df2['datetime'] >=  today_str)]\n",
    "    df_new2 = df_new2.reset_index(drop=True)\n",
    "    print(\"h1\")\n",
    "else:\n",
    "    df_new2 = pd.DataFrame()\n",
    "    print(\"h2\")\n",
    "#print(df_new2)\n",
    "for ticker in tickers:\n",
    "    company = yf.download(ticker, start = ini2_str, end = today_str, interval='60m')\n",
    "    company.columns = [company.columns[0][0], company.columns[1][0], company.columns[2][0], company.columns[3][0], company.columns[4][0]]\n",
    "    #company.rename(columns={'Datetime':'Gmt time'}, inplace = True)\n",
    "    company['datetime'] = pd.to_datetime (company.index)\n",
    "    company['companyName'] = ticker\n",
    "    df_new2 = pd.concat([df_new2, company],ignore_index=True)"
   ]
  },
  {
   "cell_type": "code",
   "execution_count": 7,
   "id": "7207b602",
   "metadata": {
    "execution": {
     "iopub.execute_input": "2025-07-03T13:28:04.433525Z",
     "iopub.status.busy": "2025-07-03T13:28:04.433302Z",
     "iopub.status.idle": "2025-07-03T13:28:04.569655Z",
     "shell.execute_reply": "2025-07-03T13:28:04.569049Z"
    },
    "papermill": {
     "duration": 0.143878,
     "end_time": "2025-07-03T13:28:04.570739",
     "exception": false,
     "start_time": "2025-07-03T13:28:04.426861",
     "status": "completed"
    },
    "tags": []
   },
   "outputs": [],
   "source": [
    "# Asegurarse de que el directorio existe\n",
    "dir_path = 'data'\n",
    "if not os.path.exists(dir_path):\n",
    "    os.makedirs(dir_path)\n",
    "\n",
    "# Ruta completa del archivo\n",
    "path = os.path.join(dir_path, 'dataxd.txt')\n",
    "\n",
    "# Eliminar archivo si existe\n",
    "if os.path.exists(path):\n",
    "    os.remove(path)\n",
    "else:\n",
    "    print(\"File does not exist. File needs to be created.\")\n",
    "\n",
    "# Guardar el DataFrame en el archivo (no hace falta abrir manualmente con 'open')\n",
    "df_new1.to_csv(path, header=True, index=None, sep='\\t', mode='w')\n"
   ]
  },
  {
   "cell_type": "code",
   "execution_count": 8,
   "id": "a5852d8c-5528-4782-aa7a-37759d9d1178",
   "metadata": {
    "execution": {
     "iopub.execute_input": "2025-07-03T13:28:04.583570Z",
     "iopub.status.busy": "2025-07-03T13:28:04.583318Z",
     "iopub.status.idle": "2025-07-03T13:28:05.498599Z",
     "shell.execute_reply": "2025-07-03T13:28:05.497988Z"
    },
    "papermill": {
     "duration": 0.922868,
     "end_time": "2025-07-03T13:28:05.499771",
     "exception": false,
     "start_time": "2025-07-03T13:28:04.576903",
     "status": "completed"
    },
    "tags": []
   },
   "outputs": [],
   "source": [
    "path = 'data/dataxh.txt'\n",
    "folder = os.path.dirname(path)\n",
    "\n",
    "# Crear carpeta si no existe\n",
    "if not os.path.exists(folder):\n",
    "    os.makedirs(folder)\n",
    "\n",
    "# Eliminar el archivo si ya existe\n",
    "if os.path.exists(path):\n",
    "    os.remove(path)\n",
    "else:\n",
    "    print(\"File does not exist. File needs to be created.\")\n",
    "\n",
    "# Exportar DataFrame a archivo de texto\n",
    "df_new2.to_csv(path, header=True, index=None, sep='\\t', mode='w')\n"
   ]
  },
  {
   "cell_type": "code",
   "execution_count": null,
   "id": "e0e67f5f-b2dd-4edb-8f23-29838bee4ab2",
   "metadata": {
    "papermill": {
     "duration": 0.005904,
     "end_time": "2025-07-03T13:28:05.511959",
     "exception": false,
     "start_time": "2025-07-03T13:28:05.506055",
     "status": "completed"
    },
    "tags": []
   },
   "outputs": [],
   "source": []
  }
 ],
 "metadata": {
  "kernelspec": {
   "display_name": "Python [conda env:base] *",
   "language": "python",
   "name": "conda-base-py"
  },
  "language_info": {
   "codemirror_mode": {
    "name": "ipython",
    "version": 3
   },
   "file_extension": ".py",
   "mimetype": "text/x-python",
   "name": "python",
   "nbconvert_exporter": "python",
   "pygments_lexer": "ipython3",
   "version": "3.10.18"
  },
  "papermill": {
   "default_parameters": {},
   "duration": 19.513099,
   "end_time": "2025-07-03T13:28:05.733060",
   "environment_variables": {},
   "exception": null,
   "input_path": "downloadDataHistYF.ipynb",
   "output_path": "downloadDataHistYF.ipynb_out.ipynb",
   "parameters": {},
   "start_time": "2025-07-03T13:27:46.219961",
   "version": "2.6.0"
  }
 },
 "nbformat": 4,
 "nbformat_minor": 5
}